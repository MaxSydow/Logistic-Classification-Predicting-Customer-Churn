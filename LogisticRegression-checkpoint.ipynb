{
 "cells": [
  {
   "cell_type": "markdown",
   "metadata": {},
   "source": [
    "# Logistic Regression Modeling on ISP Customer Churn Data"
   ]
  },
  {
   "cell_type": "markdown",
   "metadata": {},
   "source": [
    "#### Max Sydow.  WGU, D208 - Predictive Modeling.  November, 2021."
   ]
  },
  {
   "cell_type": "markdown",
   "metadata": {},
   "source": [
    "# Research Question \n",
    "\n",
    "Any company that provides a service wants to maintain their existing customer base.  Churn is a commonly used term related to customers discontinuing their terms of service.  For an ISP a customer who has “churned” has ceased to continue to use the services for which they have subscribed.  It is more costly to attain new customers than it is to acquire new ones, so minimizing churn is a crucial aspect of maintaining profitability and providing good service.  The Customer Churn data set contains a Churn column that is defined by whether a customer has ended their services within the last month, indicated by a Yes or No value.\n",
    "\n",
    "\n",
    "The specific products and services offered may play an influential role in a customer’s decision to stop their subscriptions, but ultimately it is their choice.    An individual’s sentiment and behavior may also influence decision making.  Outside demographic influences, such as where a customer lives or how much money they make may play a role in such choices.  A customers gauged perception of themselves and the ISP also seem like possibilities to sway influence.  Other aspects, such as how they choose to pay their bill or number of times, they have called in may be seen as such behavioral indicators.  In short, it seems worthwhile to get some deeper insight into customer-controlled aspects for marketing and customer service interaction purposes.  If fields in the data set which pertain to products and services offered were set aside, which other customer-controlled aspects could be used to predict the likelihood of churn.  \n"
   ]
  },
  {
   "cell_type": "markdown",
   "metadata": {},
   "source": [
    "### Objective\n",
    "\n",
    "A logistic predictive model can be applied to make predictions for an outcome with only 2 possible values.  Beginning with a set of attributes that describe customer charateristics an initial model can be made.  Model performance attributes can be examined to make improvements, which may require eliminating some predictive variables.  The goal of arriving at a best model is to use it's parameters to reveal business decision insight."
   ]
  },
  {
   "cell_type": "markdown",
   "metadata": {},
   "source": [
    "# Data Goals and Assumptions\n",
    "\n",
    "Using computational quantitative modelling can be used to aid in data driven insight.  Churn is a binary valued field, and such modelling can be used to predict the likelihood or probability of a yes or no churn decision occurring.   Probability can be calculated but require numerical input.  There are several categorical fields in the data set that may be useful to make a prediction.  If such fields could be ascribed to numerical values they might be of use.  \n",
    "\n",
    "\n",
    "To that end it would be interesting to explore such features which can be ranked.  Consider that there are 50 states and 2 US territories included as possible values for the State column, but should one state or territory be ascribed a higher number than another?  Perhaps population, GDP, number of congressional seats, date of statehood or any number of other factors could be used to devise such a ranking.  To accomplish such a ranking criterion seems worthy of a completely separate line of investigation in and of itself.  A similar argument could be made for the Jobs field; with several occupations involving education included is it ethical to rate one specialty of teaching above another?  It seems reasonable that a simple and more objective ranking scheme should be applied to avoid tangential debate on which categories can be used in an initial multivariate predictive model exploration effort.  \n",
    "\n",
    "\n",
    "For the reasons outlined certain columns can be ruled out from inclusion of the model.  Such columns include City, State, County, Timezone, Job, Employment, Marital and Gender.  Zip, Lat and Lng columns contain numerical values, but cannot be aligned with any sort of easy to describe spectrum.  Other categorical columns like Area and Contract can have a simple ranking applied to them.  Rural, Suburban, and Urban Areas can be ranked in this order according to population density.  A month-to-month contract is shorter than a year-long contract, which is shorter than a 2-year contract.   PaperlessBilling consists of yes/no values which can be mapped to 1s and 0s, but PaymentMethod has 4 distinct values that can’t be assigned numerical values with such unambiguity.  Techie is a very sentiment-oriented column but consists of yes/no values and thus will be included.  \n",
    "\n",
    "\n",
    "This leaves 23 categorical and numeric features to be explored as explanatory variables in the model.  The numerical columns can be further subdivided into discrete and continuous.\n",
    "\n",
    "Categorical: Area, Techie, Contract, PaperlessBilling\n",
    "\n",
    "Discrete numerical: Children, Age, Contacts, Email, Yearly_equip_failure, items 1- 8\n",
    "\n",
    "Continuous: Population, Tenure, Bandwidth_GB_Year, MonthlyCharge, Outage_sec_perweek, Income\n"
   ]
  },
  {
   "cell_type": "markdown",
   "metadata": {},
   "source": [
    "# Model Assumptions\n",
    "\n",
    "Transforming all predictive variables to numerical form allows the application of the logistic regression model to make predictions for the binary target variable.  Linear regression attempts to fit data to an equation of the form:\n",
    "\n",
    "Y = b + a1x1 + a2x2 + … + anxn, (1)\n",
    "\n",
    "Where b is an intercept, the xi’s are the predictive variables, and ai’s are coefficients.  If there were only one predictor y would take the shape of a line.  \n",
    "\n",
    "The shape of a non-continuous, binary variable would look a lot different.  There are really only 2 levels possible: 1 for yes, and 0 for no.  Instead of trying to model a 2-valued stepwise function, a more continuous interpretation can be made.  The probabilities of the target being 0 or 1 would lie in a continuous range.  The sigmoid function approaches 0 or 1 on either end and smoothly increases in an ‘S’ shape within the domain of most of the explanatory variable’s values, and has the form:\n",
    "\n",
    "P(y) = 1/(1+e^(-y)),   (2)\n",
    "\n",
    "Ping-Wen Hsu provided some ready code that plots this function, and it looks like this:"
   ]
  },
  {
   "cell_type": "code",
   "execution_count": 116,
   "metadata": {},
   "outputs": [
    {
     "data": {
      "image/png": "[encoded data removed]",
      "text/plain": [
       "<Figure size 432x288 with 1 Axes>"
      ]
     },
     "metadata": {
      "needs_background": "light"
     },
     "output_type": "display_data"
    }
   ],
   "source": [
    "# plotting sigmoid function\n",
    "import numpy as np\n",
    "import matplotlib.pyplot as plt\n",
    "import math\n",
    "import warnings\n",
    "warnings.filterwarnings('ignore')\n",
    "\n",
    "def sigmoid(x):\n",
    "    a = []\n",
    "    for item in x:\n",
    "        a.append(1/(1+math.exp(-item)))\n",
    "    return a\n",
    "\n",
    "x = np.arange(-10., 10., 0.2)\n",
    "sig = sigmoid(x)\n",
    "\n",
    "plt.plot(x,sig)\n",
    "plt.show()"
   ]
  },
  {
   "cell_type": "markdown",
   "metadata": {},
   "source": [
    "Equation (1) can be substituted for y into equation (2), thereby transforming an otherwise linear correlation model with direct predictions of the target values into an exponential model that predicts outcome probabilities.  The linear combination of explanatory variable can be solved for by taking the natural logarithm of both sides of equation (2), hence the name logistic.\n",
    "\n",
    "ln(y/(1-y)) = b + a1x1 + a2x2 + … + anxn,  (3)\n",
    "\n",
    "This is the form an equation of fit would take to describe a logistic model."
   ]
  },
  {
   "cell_type": "markdown",
   "metadata": {},
   "source": [
    "### Tool Benefits and Technique\n",
    "\n",
    "Python has several packages that can make the computations and obtain get these equations much faster.  In addition, there are other pre-coded functions that aid in determining the accuracy of the model and choose which explanatory variables are best.  The sklearn library contains a vast number of such functions.  Beyond just finding a good fit, the explanatory and predicted variables can be split into training and testing sets.  Half of the 10,000 rows of data can be used to compute the model, and the predictions it makes can be verified against the rest.  This allows for computations of True Positive (TP), True Negative (FN), False Positive (FP), and False Negative (FN) outcomes.  These 4 values are typically summarized in a confusion matrix.   \n",
    "\n",
    "The 4 categories of predictions can be used to compute accuracy metrics.  True Positive Rate (TPR) and False Positive Rate (FPR) use these categories.  A plot of TPR vs. FPR gives an ROC (receiver operating chatacteristic) curve.  The area under the curve (auc) provides a measure of how well a variable contributes the prediction; 0 being weakest to 1 being strongest.  The auc can be computed as explanatory variables are added to the model in a process called forward stepwise variable selection.  If too many features are used in a model the predictions on the test data may grow further away from the data, it was trained on.  This would indicate overfitting, so using auc with stepwise selection can provide a way to obtain a good collection of explanatory features to keep in a final model.  "
   ]
  },
  {
   "cell_type": "markdown",
   "metadata": {},
   "source": [
    "# Data Preparation"
   ]
  },
  {
   "cell_type": "markdown",
   "metadata": {},
   "source": [
    "To get the data ready for model creation some pre-processing is required.  Many of the features to discard have been reasoned out in the discussions above, but some programmatic exploration can back up those assumptions.\n",
    "\n",
    " "
   ]
  },
  {
   "cell_type": "markdown",
   "metadata": {},
   "source": [
    "### Steps to Prepare the Data"
   ]
  },
  {
   "cell_type": "code",
   "execution_count": 2,
   "metadata": {},
   "outputs": [],
   "source": [
    "# read initial data set, store as dataframe\n",
    "import pandas as pd\n",
    "df = pd.read_csv('C:/Users/maxgs/MSDA/D208 Predictive Modeling/churn_clean.csv')"
   ]
  },
  {
   "cell_type": "code",
   "execution_count": 3,
   "metadata": {},
   "outputs": [
    {
     "data": {
      "text/html": [
       "<div>\n",
       "<style scoped>\n",
       "    .dataframe tbody tr th:only-of-type {\n",
       "        vertical-align: middle;\n",
       "    }\n",
       "\n",
       "    .dataframe tbody tr th {\n",
       "        vertical-align: top;\n",
       "    }\n",
       "\n",
       "    .dataframe thead th {\n",
       "        text-align: right;\n",
       "    }\n",
       "</style>\n",
       "<table border=\"1\" class=\"dataframe\">\n",
       "  <thead>\n",
       "    <tr style=\"text-align: right;\">\n",
       "      <th></th>\n",
       "      <th>CaseOrder</th>\n",
       "      <th>Customer_id</th>\n",
       "      <th>Interaction</th>\n",
       "      <th>UID</th>\n",
       "      <th>City</th>\n",
       "      <th>State</th>\n",
       "      <th>County</th>\n",
       "      <th>Zip</th>\n",
       "      <th>Lat</th>\n",
       "      <th>Lng</th>\n",
       "      <th>...</th>\n",
       "      <th>MonthlyCharge</th>\n",
       "      <th>Bandwidth_GB_Year</th>\n",
       "      <th>Item1</th>\n",
       "      <th>Item2</th>\n",
       "      <th>Item3</th>\n",
       "      <th>Item4</th>\n",
       "      <th>Item5</th>\n",
       "      <th>Item6</th>\n",
       "      <th>Item7</th>\n",
       "      <th>Item8</th>\n",
       "    </tr>\n",
       "  </thead>\n",
       "  <tbody>\n",
       "    <tr>\n",
       "      <th>0</th>\n",
       "      <td>1</td>\n",
       "      <td>K409198</td>\n",
       "      <td>aa90260b-4141-4a24-8e36-b04ce1f4f77b</td>\n",
       "      <td>e885b299883d4f9fb18e39c75155d990</td>\n",
       "      <td>Point Baker</td>\n",
       "      <td>AK</td>\n",
       "      <td>Prince of Wales-Hyder</td>\n",
       "      <td>99927</td>\n",
       "      <td>56.25100</td>\n",
       "      <td>-133.37571</td>\n",
       "      <td>...</td>\n",
       "      <td>172.455519</td>\n",
       "      <td>904.536110</td>\n",
       "      <td>5</td>\n",
       "      <td>5</td>\n",
       "      <td>5</td>\n",
       "      <td>3</td>\n",
       "      <td>4</td>\n",
       "      <td>4</td>\n",
       "      <td>3</td>\n",
       "      <td>4</td>\n",
       "    </tr>\n",
       "    <tr>\n",
       "      <th>1</th>\n",
       "      <td>2</td>\n",
       "      <td>S120509</td>\n",
       "      <td>fb76459f-c047-4a9d-8af9-e0f7d4ac2524</td>\n",
       "      <td>f2de8bef964785f41a2959829830fb8a</td>\n",
       "      <td>West Branch</td>\n",
       "      <td>MI</td>\n",
       "      <td>Ogemaw</td>\n",
       "      <td>48661</td>\n",
       "      <td>44.32893</td>\n",
       "      <td>-84.24080</td>\n",
       "      <td>...</td>\n",
       "      <td>242.632554</td>\n",
       "      <td>800.982766</td>\n",
       "      <td>3</td>\n",
       "      <td>4</td>\n",
       "      <td>3</td>\n",
       "      <td>3</td>\n",
       "      <td>4</td>\n",
       "      <td>3</td>\n",
       "      <td>4</td>\n",
       "      <td>4</td>\n",
       "    </tr>\n",
       "    <tr>\n",
       "      <th>2</th>\n",
       "      <td>3</td>\n",
       "      <td>K191035</td>\n",
       "      <td>344d114c-3736-4be5-98f7-c72c281e2d35</td>\n",
       "      <td>f1784cfa9f6d92ae816197eb175d3c71</td>\n",
       "      <td>Yamhill</td>\n",
       "      <td>OR</td>\n",
       "      <td>Yamhill</td>\n",
       "      <td>97148</td>\n",
       "      <td>45.35589</td>\n",
       "      <td>-123.24657</td>\n",
       "      <td>...</td>\n",
       "      <td>159.947583</td>\n",
       "      <td>2054.706961</td>\n",
       "      <td>4</td>\n",
       "      <td>4</td>\n",
       "      <td>2</td>\n",
       "      <td>4</td>\n",
       "      <td>4</td>\n",
       "      <td>3</td>\n",
       "      <td>3</td>\n",
       "      <td>3</td>\n",
       "    </tr>\n",
       "    <tr>\n",
       "      <th>3</th>\n",
       "      <td>4</td>\n",
       "      <td>D90850</td>\n",
       "      <td>abfa2b40-2d43-4994-b15a-989b8c79e311</td>\n",
       "      <td>dc8a365077241bb5cd5ccd305136b05e</td>\n",
       "      <td>Del Mar</td>\n",
       "      <td>CA</td>\n",
       "      <td>San Diego</td>\n",
       "      <td>92014</td>\n",
       "      <td>32.96687</td>\n",
       "      <td>-117.24798</td>\n",
       "      <td>...</td>\n",
       "      <td>119.956840</td>\n",
       "      <td>2164.579412</td>\n",
       "      <td>4</td>\n",
       "      <td>4</td>\n",
       "      <td>4</td>\n",
       "      <td>2</td>\n",
       "      <td>5</td>\n",
       "      <td>4</td>\n",
       "      <td>3</td>\n",
       "      <td>3</td>\n",
       "    </tr>\n",
       "    <tr>\n",
       "      <th>4</th>\n",
       "      <td>5</td>\n",
       "      <td>K662701</td>\n",
       "      <td>68a861fd-0d20-4e51-a587-8a90407ee574</td>\n",
       "      <td>aabb64a116e83fdc4befc1fbab1663f9</td>\n",
       "      <td>Needville</td>\n",
       "      <td>TX</td>\n",
       "      <td>Fort Bend</td>\n",
       "      <td>77461</td>\n",
       "      <td>29.38012</td>\n",
       "      <td>-95.80673</td>\n",
       "      <td>...</td>\n",
       "      <td>149.948316</td>\n",
       "      <td>271.493436</td>\n",
       "      <td>4</td>\n",
       "      <td>4</td>\n",
       "      <td>4</td>\n",
       "      <td>3</td>\n",
       "      <td>4</td>\n",
       "      <td>4</td>\n",
       "      <td>4</td>\n",
       "      <td>5</td>\n",
       "    </tr>\n",
       "  </tbody>\n",
       "</table>\n",
       "<p>5 rows × 50 columns</p>\n",
       "</div>"
      ],
      "text/plain": [
       "   CaseOrder Customer_id                           Interaction  \\\n",
       "0          1     K409198  aa90260b-4141-4a24-8e36-b04ce1f4f77b   \n",
       "1          2     S120509  fb76459f-c047-4a9d-8af9-e0f7d4ac2524   \n",
       "2          3     K191035  344d114c-3736-4be5-98f7-c72c281e2d35   \n",
       "3          4      D90850  abfa2b40-2d43-4994-b15a-989b8c79e311   \n",
       "4          5     K662701  68a861fd-0d20-4e51-a587-8a90407ee574   \n",
       "\n",
       "                                UID         City State                 County  \\\n",
       "0  e885b299883d4f9fb18e39c75155d990  Point Baker    AK  Prince of Wales-Hyder   \n",
       "1  f2de8bef964785f41a2959829830fb8a  West Branch    MI                 Ogemaw   \n",
       "2  f1784cfa9f6d92ae816197eb175d3c71      Yamhill    OR                Yamhill   \n",
       "3  dc8a365077241bb5cd5ccd305136b05e      Del Mar    CA              San Diego   \n",
       "4  aabb64a116e83fdc4befc1fbab1663f9    Needville    TX              Fort Bend   \n",
       "\n",
       "     Zip       Lat        Lng  ...  MonthlyCharge Bandwidth_GB_Year Item1  \\\n",
       "0  99927  56.25100 -133.37571  ...     172.455519        904.536110     5   \n",
       "1  48661  44.32893  -84.24080  ...     242.632554        800.982766     3   \n",
       "2  97148  45.35589 -123.24657  ...     159.947583       2054.706961     4   \n",
       "3  92014  32.96687 -117.24798  ...     119.956840       2164.579412     4   \n",
       "4  77461  29.38012  -95.80673  ...     149.948316        271.493436     4   \n",
       "\n",
       "  Item2  Item3  Item4  Item5 Item6 Item7 Item8  \n",
       "0     5      5      3      4     4     3     4  \n",
       "1     4      3      3      4     3     4     4  \n",
       "2     4      2      4      4     3     3     3  \n",
       "3     4      4      2      5     4     3     3  \n",
       "4     4      4      3      4     4     4     5  \n",
       "\n",
       "[5 rows x 50 columns]"
      ]
     },
     "execution_count": 3,
     "metadata": {},
     "output_type": "execute_result"
    }
   ],
   "source": [
    "# preview the entire dataframe\n",
    "df.head()"
   ]
  },
  {
   "cell_type": "code",
   "execution_count": 4,
   "metadata": {},
   "outputs": [
    {
     "data": {
      "text/plain": [
       "Index(['CaseOrder', 'Customer_id', 'Interaction', 'UID', 'City', 'State',\n",
       "       'County', 'Zip', 'Lat', 'Lng', 'Population', 'Area', 'TimeZone', 'Job',\n",
       "       'Children', 'Age', 'Income', 'Marital', 'Gender', 'Churn',\n",
       "       'Outage_sec_perweek', 'Email', 'Contacts', 'Yearly_equip_failure',\n",
       "       'Techie', 'Contract', 'Port_modem', 'Tablet', 'InternetService',\n",
       "       'Phone', 'Multiple', 'OnlineSecurity', 'OnlineBackup',\n",
       "       'DeviceProtection', 'TechSupport', 'StreamingTV', 'StreamingMovies',\n",
       "       'PaperlessBilling', 'PaymentMethod', 'Tenure', 'MonthlyCharge',\n",
       "       'Bandwidth_GB_Year', 'Item1', 'Item2', 'Item3', 'Item4', 'Item5',\n",
       "       'Item6', 'Item7', 'Item8'],\n",
       "      dtype='object')"
      ]
     },
     "execution_count": 4,
     "metadata": {},
     "output_type": "execute_result"
    }
   ],
   "source": [
    "# display column names\n",
    "df.columns"
   ]
  },
  {
   "cell_type": "markdown",
   "metadata": {},
   "source": [
    "__________________________________________________________________________________________\n",
    "\n",
    "The summarizing categorical columns helped identify which ones could not be easily ranked. \n",
    "__________________________________________________________________________________________\n"
   ]
  },
  {
   "cell_type": "code",
   "execution_count": 5,
   "metadata": {},
   "outputs": [
    {
     "data": {
      "text/html": [
       "<div>\n",
       "<style scoped>\n",
       "    .dataframe tbody tr th:only-of-type {\n",
       "        vertical-align: middle;\n",
       "    }\n",
       "\n",
       "    .dataframe tbody tr th {\n",
       "        vertical-align: top;\n",
       "    }\n",
       "\n",
       "    .dataframe thead th {\n",
       "        text-align: right;\n",
       "    }\n",
       "</style>\n",
       "<table border=\"1\" class=\"dataframe\">\n",
       "  <thead>\n",
       "    <tr style=\"text-align: right;\">\n",
       "      <th></th>\n",
       "      <th>Customer_id</th>\n",
       "      <th>Interaction</th>\n",
       "      <th>UID</th>\n",
       "      <th>City</th>\n",
       "      <th>State</th>\n",
       "      <th>County</th>\n",
       "      <th>Area</th>\n",
       "      <th>TimeZone</th>\n",
       "      <th>Job</th>\n",
       "      <th>Marital</th>\n",
       "      <th>...</th>\n",
       "      <th>Phone</th>\n",
       "      <th>Multiple</th>\n",
       "      <th>OnlineSecurity</th>\n",
       "      <th>OnlineBackup</th>\n",
       "      <th>DeviceProtection</th>\n",
       "      <th>TechSupport</th>\n",
       "      <th>StreamingTV</th>\n",
       "      <th>StreamingMovies</th>\n",
       "      <th>PaperlessBilling</th>\n",
       "      <th>PaymentMethod</th>\n",
       "    </tr>\n",
       "  </thead>\n",
       "  <tbody>\n",
       "    <tr>\n",
       "      <th>0</th>\n",
       "      <td>K409198</td>\n",
       "      <td>aa90260b-4141-4a24-8e36-b04ce1f4f77b</td>\n",
       "      <td>e885b299883d4f9fb18e39c75155d990</td>\n",
       "      <td>Point Baker</td>\n",
       "      <td>AK</td>\n",
       "      <td>Prince of Wales-Hyder</td>\n",
       "      <td>Urban</td>\n",
       "      <td>America/Sitka</td>\n",
       "      <td>Environmental health practitioner</td>\n",
       "      <td>Widowed</td>\n",
       "      <td>...</td>\n",
       "      <td>Yes</td>\n",
       "      <td>No</td>\n",
       "      <td>Yes</td>\n",
       "      <td>Yes</td>\n",
       "      <td>No</td>\n",
       "      <td>No</td>\n",
       "      <td>No</td>\n",
       "      <td>Yes</td>\n",
       "      <td>Yes</td>\n",
       "      <td>Credit Card (automatic)</td>\n",
       "    </tr>\n",
       "    <tr>\n",
       "      <th>1</th>\n",
       "      <td>S120509</td>\n",
       "      <td>fb76459f-c047-4a9d-8af9-e0f7d4ac2524</td>\n",
       "      <td>f2de8bef964785f41a2959829830fb8a</td>\n",
       "      <td>West Branch</td>\n",
       "      <td>MI</td>\n",
       "      <td>Ogemaw</td>\n",
       "      <td>Urban</td>\n",
       "      <td>America/Detroit</td>\n",
       "      <td>Programmer, multimedia</td>\n",
       "      <td>Married</td>\n",
       "      <td>...</td>\n",
       "      <td>Yes</td>\n",
       "      <td>Yes</td>\n",
       "      <td>Yes</td>\n",
       "      <td>No</td>\n",
       "      <td>No</td>\n",
       "      <td>No</td>\n",
       "      <td>Yes</td>\n",
       "      <td>Yes</td>\n",
       "      <td>Yes</td>\n",
       "      <td>Bank Transfer(automatic)</td>\n",
       "    </tr>\n",
       "    <tr>\n",
       "      <th>2</th>\n",
       "      <td>K191035</td>\n",
       "      <td>344d114c-3736-4be5-98f7-c72c281e2d35</td>\n",
       "      <td>f1784cfa9f6d92ae816197eb175d3c71</td>\n",
       "      <td>Yamhill</td>\n",
       "      <td>OR</td>\n",
       "      <td>Yamhill</td>\n",
       "      <td>Urban</td>\n",
       "      <td>America/Los_Angeles</td>\n",
       "      <td>Chief Financial Officer</td>\n",
       "      <td>Widowed</td>\n",
       "      <td>...</td>\n",
       "      <td>Yes</td>\n",
       "      <td>Yes</td>\n",
       "      <td>No</td>\n",
       "      <td>No</td>\n",
       "      <td>No</td>\n",
       "      <td>No</td>\n",
       "      <td>No</td>\n",
       "      <td>Yes</td>\n",
       "      <td>Yes</td>\n",
       "      <td>Credit Card (automatic)</td>\n",
       "    </tr>\n",
       "    <tr>\n",
       "      <th>3</th>\n",
       "      <td>D90850</td>\n",
       "      <td>abfa2b40-2d43-4994-b15a-989b8c79e311</td>\n",
       "      <td>dc8a365077241bb5cd5ccd305136b05e</td>\n",
       "      <td>Del Mar</td>\n",
       "      <td>CA</td>\n",
       "      <td>San Diego</td>\n",
       "      <td>Suburban</td>\n",
       "      <td>America/Los_Angeles</td>\n",
       "      <td>Solicitor</td>\n",
       "      <td>Married</td>\n",
       "      <td>...</td>\n",
       "      <td>Yes</td>\n",
       "      <td>No</td>\n",
       "      <td>Yes</td>\n",
       "      <td>No</td>\n",
       "      <td>No</td>\n",
       "      <td>No</td>\n",
       "      <td>Yes</td>\n",
       "      <td>No</td>\n",
       "      <td>Yes</td>\n",
       "      <td>Mailed Check</td>\n",
       "    </tr>\n",
       "    <tr>\n",
       "      <th>4</th>\n",
       "      <td>K662701</td>\n",
       "      <td>68a861fd-0d20-4e51-a587-8a90407ee574</td>\n",
       "      <td>aabb64a116e83fdc4befc1fbab1663f9</td>\n",
       "      <td>Needville</td>\n",
       "      <td>TX</td>\n",
       "      <td>Fort Bend</td>\n",
       "      <td>Suburban</td>\n",
       "      <td>America/Chicago</td>\n",
       "      <td>Medical illustrator</td>\n",
       "      <td>Separated</td>\n",
       "      <td>...</td>\n",
       "      <td>No</td>\n",
       "      <td>No</td>\n",
       "      <td>No</td>\n",
       "      <td>No</td>\n",
       "      <td>No</td>\n",
       "      <td>Yes</td>\n",
       "      <td>Yes</td>\n",
       "      <td>No</td>\n",
       "      <td>No</td>\n",
       "      <td>Mailed Check</td>\n",
       "    </tr>\n",
       "  </tbody>\n",
       "</table>\n",
       "<p>5 rows × 27 columns</p>\n",
       "</div>"
      ],
      "text/plain": [
       "  Customer_id                           Interaction  \\\n",
       "0     K409198  aa90260b-4141-4a24-8e36-b04ce1f4f77b   \n",
       "1     S120509  fb76459f-c047-4a9d-8af9-e0f7d4ac2524   \n",
       "2     K191035  344d114c-3736-4be5-98f7-c72c281e2d35   \n",
       "3      D90850  abfa2b40-2d43-4994-b15a-989b8c79e311   \n",
       "4     K662701  68a861fd-0d20-4e51-a587-8a90407ee574   \n",
       "\n",
       "                                UID         City State                 County  \\\n",
       "0  e885b299883d4f9fb18e39c75155d990  Point Baker    AK  Prince of Wales-Hyder   \n",
       "1  f2de8bef964785f41a2959829830fb8a  West Branch    MI                 Ogemaw   \n",
       "2  f1784cfa9f6d92ae816197eb175d3c71      Yamhill    OR                Yamhill   \n",
       "3  dc8a365077241bb5cd5ccd305136b05e      Del Mar    CA              San Diego   \n",
       "4  aabb64a116e83fdc4befc1fbab1663f9    Needville    TX              Fort Bend   \n",
       "\n",
       "       Area             TimeZone                                Job  \\\n",
       "0     Urban        America/Sitka  Environmental health practitioner   \n",
       "1     Urban      America/Detroit             Programmer, multimedia   \n",
       "2     Urban  America/Los_Angeles            Chief Financial Officer   \n",
       "3  Suburban  America/Los_Angeles                          Solicitor   \n",
       "4  Suburban      America/Chicago                Medical illustrator   \n",
       "\n",
       "     Marital  ... Phone Multiple OnlineSecurity OnlineBackup DeviceProtection  \\\n",
       "0    Widowed  ...   Yes       No            Yes          Yes               No   \n",
       "1    Married  ...   Yes      Yes            Yes           No               No   \n",
       "2    Widowed  ...   Yes      Yes             No           No               No   \n",
       "3    Married  ...   Yes       No            Yes           No               No   \n",
       "4  Separated  ...    No       No             No           No               No   \n",
       "\n",
       "  TechSupport StreamingTV StreamingMovies PaperlessBilling  \\\n",
       "0          No          No             Yes              Yes   \n",
       "1          No         Yes             Yes              Yes   \n",
       "2          No          No             Yes              Yes   \n",
       "3          No         Yes              No              Yes   \n",
       "4         Yes         Yes              No               No   \n",
       "\n",
       "              PaymentMethod  \n",
       "0   Credit Card (automatic)  \n",
       "1  Bank Transfer(automatic)  \n",
       "2   Credit Card (automatic)  \n",
       "3              Mailed Check  \n",
       "4              Mailed Check  \n",
       "\n",
       "[5 rows x 27 columns]"
      ]
     },
     "execution_count": 5,
     "metadata": {},
     "output_type": "execute_result"
    }
   ],
   "source": [
    "#display categorical columns of entire dataframe\n",
    "obj_df = df.select_dtypes(include=['object']).copy()\n",
    "obj_df.head()"
   ]
  },
  {
   "cell_type": "markdown",
   "metadata": {},
   "source": [
    "_______________________________________________________________________________________________\n",
    "\n",
    "The entire data frame can be subsetted to include only the explanatory and target variable columns.  The positions of the columns will be useful for index manipulation.  The target column appears last.\n",
    "\n",
    "________________________________________________________________________________________________\n"
   ]
  },
  {
   "cell_type": "code",
   "execution_count": 6,
   "metadata": {},
   "outputs": [],
   "source": [
    "# subset dataframe for select vars\n",
    "log_df = df[['Techie', 'PaperlessBilling', 'Contract', 'Area', 'Email', 'Children', 'Age', 'Contacts', 'Item1', 'Item2', 'Item3', 'Item4', 'Item5', 'Item6', 'Item7', 'Item8', 'Yearly_equip_failure', 'Population', 'MonthlyCharge', 'Bandwidth_GB_Year', 'Tenure', 'Outage_sec_perweek', 'Income', 'Churn']]"
   ]
  },
  {
   "cell_type": "code",
   "execution_count": 7,
   "metadata": {
    "scrolled": true
   },
   "outputs": [
    {
     "data": {
      "text/html": [
       "<div>\n",
       "<style scoped>\n",
       "    .dataframe tbody tr th:only-of-type {\n",
       "        vertical-align: middle;\n",
       "    }\n",
       "\n",
       "    .dataframe tbody tr th {\n",
       "        vertical-align: top;\n",
       "    }\n",
       "\n",
       "    .dataframe thead th {\n",
       "        text-align: right;\n",
       "    }\n",
       "</style>\n",
       "<table border=\"1\" class=\"dataframe\">\n",
       "  <thead>\n",
       "    <tr style=\"text-align: right;\">\n",
       "      <th></th>\n",
       "      <th>Techie</th>\n",
       "      <th>PaperlessBilling</th>\n",
       "      <th>Contract</th>\n",
       "      <th>Area</th>\n",
       "      <th>Email</th>\n",
       "      <th>Children</th>\n",
       "      <th>Age</th>\n",
       "      <th>Contacts</th>\n",
       "      <th>Item1</th>\n",
       "      <th>Item2</th>\n",
       "      <th>...</th>\n",
       "      <th>Item7</th>\n",
       "      <th>Item8</th>\n",
       "      <th>Yearly_equip_failure</th>\n",
       "      <th>Population</th>\n",
       "      <th>MonthlyCharge</th>\n",
       "      <th>Bandwidth_GB_Year</th>\n",
       "      <th>Tenure</th>\n",
       "      <th>Outage_sec_perweek</th>\n",
       "      <th>Income</th>\n",
       "      <th>Churn</th>\n",
       "    </tr>\n",
       "  </thead>\n",
       "  <tbody>\n",
       "    <tr>\n",
       "      <th>0</th>\n",
       "      <td>No</td>\n",
       "      <td>Yes</td>\n",
       "      <td>One year</td>\n",
       "      <td>Urban</td>\n",
       "      <td>10</td>\n",
       "      <td>0</td>\n",
       "      <td>68</td>\n",
       "      <td>0</td>\n",
       "      <td>5</td>\n",
       "      <td>5</td>\n",
       "      <td>...</td>\n",
       "      <td>3</td>\n",
       "      <td>4</td>\n",
       "      <td>1</td>\n",
       "      <td>38</td>\n",
       "      <td>172.455519</td>\n",
       "      <td>904.536110</td>\n",
       "      <td>6.795513</td>\n",
       "      <td>7.978323</td>\n",
       "      <td>28561.99</td>\n",
       "      <td>No</td>\n",
       "    </tr>\n",
       "    <tr>\n",
       "      <th>1</th>\n",
       "      <td>Yes</td>\n",
       "      <td>Yes</td>\n",
       "      <td>Month-to-month</td>\n",
       "      <td>Urban</td>\n",
       "      <td>12</td>\n",
       "      <td>1</td>\n",
       "      <td>27</td>\n",
       "      <td>0</td>\n",
       "      <td>3</td>\n",
       "      <td>4</td>\n",
       "      <td>...</td>\n",
       "      <td>4</td>\n",
       "      <td>4</td>\n",
       "      <td>1</td>\n",
       "      <td>10446</td>\n",
       "      <td>242.632554</td>\n",
       "      <td>800.982766</td>\n",
       "      <td>1.156681</td>\n",
       "      <td>11.699080</td>\n",
       "      <td>21704.77</td>\n",
       "      <td>Yes</td>\n",
       "    </tr>\n",
       "    <tr>\n",
       "      <th>2</th>\n",
       "      <td>Yes</td>\n",
       "      <td>Yes</td>\n",
       "      <td>Two Year</td>\n",
       "      <td>Urban</td>\n",
       "      <td>9</td>\n",
       "      <td>4</td>\n",
       "      <td>50</td>\n",
       "      <td>0</td>\n",
       "      <td>4</td>\n",
       "      <td>4</td>\n",
       "      <td>...</td>\n",
       "      <td>3</td>\n",
       "      <td>3</td>\n",
       "      <td>1</td>\n",
       "      <td>3735</td>\n",
       "      <td>159.947583</td>\n",
       "      <td>2054.706961</td>\n",
       "      <td>15.754144</td>\n",
       "      <td>10.752800</td>\n",
       "      <td>9609.57</td>\n",
       "      <td>No</td>\n",
       "    </tr>\n",
       "    <tr>\n",
       "      <th>3</th>\n",
       "      <td>Yes</td>\n",
       "      <td>Yes</td>\n",
       "      <td>Two Year</td>\n",
       "      <td>Suburban</td>\n",
       "      <td>15</td>\n",
       "      <td>1</td>\n",
       "      <td>48</td>\n",
       "      <td>2</td>\n",
       "      <td>4</td>\n",
       "      <td>4</td>\n",
       "      <td>...</td>\n",
       "      <td>3</td>\n",
       "      <td>3</td>\n",
       "      <td>0</td>\n",
       "      <td>13863</td>\n",
       "      <td>119.956840</td>\n",
       "      <td>2164.579412</td>\n",
       "      <td>17.087227</td>\n",
       "      <td>14.913540</td>\n",
       "      <td>18925.23</td>\n",
       "      <td>No</td>\n",
       "    </tr>\n",
       "    <tr>\n",
       "      <th>4</th>\n",
       "      <td>No</td>\n",
       "      <td>No</td>\n",
       "      <td>Month-to-month</td>\n",
       "      <td>Suburban</td>\n",
       "      <td>16</td>\n",
       "      <td>0</td>\n",
       "      <td>83</td>\n",
       "      <td>2</td>\n",
       "      <td>4</td>\n",
       "      <td>4</td>\n",
       "      <td>...</td>\n",
       "      <td>4</td>\n",
       "      <td>5</td>\n",
       "      <td>1</td>\n",
       "      <td>11352</td>\n",
       "      <td>149.948316</td>\n",
       "      <td>271.493436</td>\n",
       "      <td>1.670972</td>\n",
       "      <td>8.147417</td>\n",
       "      <td>40074.19</td>\n",
       "      <td>Yes</td>\n",
       "    </tr>\n",
       "  </tbody>\n",
       "</table>\n",
       "<p>5 rows × 24 columns</p>\n",
       "</div>"
      ],
      "text/plain": [
       "  Techie PaperlessBilling        Contract      Area  Email  Children  Age  \\\n",
       "0     No              Yes        One year     Urban     10         0   68   \n",
       "1    Yes              Yes  Month-to-month     Urban     12         1   27   \n",
       "2    Yes              Yes        Two Year     Urban      9         4   50   \n",
       "3    Yes              Yes        Two Year  Suburban     15         1   48   \n",
       "4     No               No  Month-to-month  Suburban     16         0   83   \n",
       "\n",
       "   Contacts  Item1  Item2  ...  Item7  Item8  Yearly_equip_failure  \\\n",
       "0         0      5      5  ...      3      4                     1   \n",
       "1         0      3      4  ...      4      4                     1   \n",
       "2         0      4      4  ...      3      3                     1   \n",
       "3         2      4      4  ...      3      3                     0   \n",
       "4         2      4      4  ...      4      5                     1   \n",
       "\n",
       "   Population  MonthlyCharge  Bandwidth_GB_Year     Tenure  \\\n",
       "0          38     172.455519         904.536110   6.795513   \n",
       "1       10446     242.632554         800.982766   1.156681   \n",
       "2        3735     159.947583        2054.706961  15.754144   \n",
       "3       13863     119.956840        2164.579412  17.087227   \n",
       "4       11352     149.948316         271.493436   1.670972   \n",
       "\n",
       "   Outage_sec_perweek    Income  Churn  \n",
       "0            7.978323  28561.99     No  \n",
       "1           11.699080  21704.77    Yes  \n",
       "2           10.752800   9609.57     No  \n",
       "3           14.913540  18925.23     No  \n",
       "4            8.147417  40074.19    Yes  \n",
       "\n",
       "[5 rows x 24 columns]"
      ]
     },
     "execution_count": 7,
     "metadata": {},
     "output_type": "execute_result"
    }
   ],
   "source": [
    "log_df.head()"
   ]
  },
  {
   "cell_type": "markdown",
   "metadata": {},
   "source": [
    "_____________________________________________________________________________________________\n",
    "\n",
    "Identifying the discrete values of the remaining categorical columns will allow for numerical mappings to be applied.\n",
    "\n",
    "_____________________________________________________________________________________________"
   ]
  },
  {
   "cell_type": "code",
   "execution_count": 8,
   "metadata": {
    "scrolled": true
   },
   "outputs": [
    {
     "data": {
      "text/html": [
       "<div>\n",
       "<style scoped>\n",
       "    .dataframe tbody tr th:only-of-type {\n",
       "        vertical-align: middle;\n",
       "    }\n",
       "\n",
       "    .dataframe tbody tr th {\n",
       "        vertical-align: top;\n",
       "    }\n",
       "\n",
       "    .dataframe thead th {\n",
       "        text-align: right;\n",
       "    }\n",
       "</style>\n",
       "<table border=\"1\" class=\"dataframe\">\n",
       "  <thead>\n",
       "    <tr style=\"text-align: right;\">\n",
       "      <th></th>\n",
       "      <th>Techie</th>\n",
       "      <th>PaperlessBilling</th>\n",
       "      <th>Contract</th>\n",
       "      <th>Area</th>\n",
       "      <th>Churn</th>\n",
       "    </tr>\n",
       "  </thead>\n",
       "  <tbody>\n",
       "    <tr>\n",
       "      <th>0</th>\n",
       "      <td>No</td>\n",
       "      <td>Yes</td>\n",
       "      <td>One year</td>\n",
       "      <td>Urban</td>\n",
       "      <td>No</td>\n",
       "    </tr>\n",
       "    <tr>\n",
       "      <th>1</th>\n",
       "      <td>Yes</td>\n",
       "      <td>Yes</td>\n",
       "      <td>Month-to-month</td>\n",
       "      <td>Urban</td>\n",
       "      <td>Yes</td>\n",
       "    </tr>\n",
       "    <tr>\n",
       "      <th>2</th>\n",
       "      <td>Yes</td>\n",
       "      <td>Yes</td>\n",
       "      <td>Two Year</td>\n",
       "      <td>Urban</td>\n",
       "      <td>No</td>\n",
       "    </tr>\n",
       "    <tr>\n",
       "      <th>3</th>\n",
       "      <td>Yes</td>\n",
       "      <td>Yes</td>\n",
       "      <td>Two Year</td>\n",
       "      <td>Suburban</td>\n",
       "      <td>No</td>\n",
       "    </tr>\n",
       "    <tr>\n",
       "      <th>4</th>\n",
       "      <td>No</td>\n",
       "      <td>No</td>\n",
       "      <td>Month-to-month</td>\n",
       "      <td>Suburban</td>\n",
       "      <td>Yes</td>\n",
       "    </tr>\n",
       "  </tbody>\n",
       "</table>\n",
       "</div>"
      ],
      "text/plain": [
       "  Techie PaperlessBilling        Contract      Area Churn\n",
       "0     No              Yes        One year     Urban    No\n",
       "1    Yes              Yes  Month-to-month     Urban   Yes\n",
       "2    Yes              Yes        Two Year     Urban    No\n",
       "3    Yes              Yes        Two Year  Suburban    No\n",
       "4     No               No  Month-to-month  Suburban   Yes"
      ]
     },
     "execution_count": 8,
     "metadata": {},
     "output_type": "execute_result"
    }
   ],
   "source": [
    "#display categorical columns of initial model dataframe\n",
    "obj_log_df = log_df.select_dtypes(include=['object']).copy()\n",
    "obj_log_df.head()"
   ]
  },
  {
   "cell_type": "markdown",
   "metadata": {},
   "source": [
    "The columns: Techie, PaperlessBilling, and Churn all have binary values consisting of Yes or No values.  These can be mapped to 1’s and 0’s.  To do this mlr_df can be subsetted into just these columns as a new dataframe yn_df.  A data dictionary yn_mapping was created to assign 0 to No and 1 to Yes, which was then applied to relevant columns in log_df."
   ]
  },
  {
   "cell_type": "code",
   "execution_count": 9,
   "metadata": {},
   "outputs": [
    {
     "data": {
      "text/html": [
       "<div>\n",
       "<style scoped>\n",
       "    .dataframe tbody tr th:only-of-type {\n",
       "        vertical-align: middle;\n",
       "    }\n",
       "\n",
       "    .dataframe tbody tr th {\n",
       "        vertical-align: top;\n",
       "    }\n",
       "\n",
       "    .dataframe thead th {\n",
       "        text-align: right;\n",
       "    }\n",
       "</style>\n",
       "<table border=\"1\" class=\"dataframe\">\n",
       "  <thead>\n",
       "    <tr style=\"text-align: right;\">\n",
       "      <th></th>\n",
       "      <th>Techie</th>\n",
       "      <th>PaperlessBilling</th>\n",
       "      <th>Churn</th>\n",
       "    </tr>\n",
       "  </thead>\n",
       "  <tbody>\n",
       "    <tr>\n",
       "      <th>0</th>\n",
       "      <td>No</td>\n",
       "      <td>Yes</td>\n",
       "      <td>No</td>\n",
       "    </tr>\n",
       "    <tr>\n",
       "      <th>1</th>\n",
       "      <td>Yes</td>\n",
       "      <td>Yes</td>\n",
       "      <td>Yes</td>\n",
       "    </tr>\n",
       "    <tr>\n",
       "      <th>2</th>\n",
       "      <td>Yes</td>\n",
       "      <td>Yes</td>\n",
       "      <td>No</td>\n",
       "    </tr>\n",
       "    <tr>\n",
       "      <th>3</th>\n",
       "      <td>Yes</td>\n",
       "      <td>Yes</td>\n",
       "      <td>No</td>\n",
       "    </tr>\n",
       "    <tr>\n",
       "      <th>4</th>\n",
       "      <td>No</td>\n",
       "      <td>No</td>\n",
       "      <td>Yes</td>\n",
       "    </tr>\n",
       "  </tbody>\n",
       "</table>\n",
       "</div>"
      ],
      "text/plain": [
       "  Techie PaperlessBilling Churn\n",
       "0     No              Yes    No\n",
       "1    Yes              Yes   Yes\n",
       "2    Yes              Yes    No\n",
       "3    Yes              Yes    No\n",
       "4     No               No   Yes"
      ]
     },
     "execution_count": 9,
     "metadata": {},
     "output_type": "execute_result"
    }
   ],
   "source": [
    "# subset for binary columns\n",
    "yn_df = log_df[['Techie', 'PaperlessBilling', 'Churn']]\n",
    "yn_df.head()"
   ]
  },
  {
   "cell_type": "code",
   "execution_count": 10,
   "metadata": {},
   "outputs": [],
   "source": [
    "# supressing non-crucial warnings from output\n",
    "\n",
    "import warnings\n",
    "warnings.filterwarnings('ignore')"
   ]
  },
  {
   "cell_type": "code",
   "execution_count": 11,
   "metadata": {},
   "outputs": [],
   "source": [
    "# map yes/no values to 1 and 0\n",
    "yn_mapping = {'No' : 0, 'Yes' : 1}\n",
    "for column in yn_df: \n",
    "    log_df[column] = log_df[column].map(yn_mapping)"
   ]
  },
  {
   "cell_type": "code",
   "execution_count": 12,
   "metadata": {},
   "outputs": [
    {
     "data": {
      "text/html": [
       "<div>\n",
       "<style scoped>\n",
       "    .dataframe tbody tr th:only-of-type {\n",
       "        vertical-align: middle;\n",
       "    }\n",
       "\n",
       "    .dataframe tbody tr th {\n",
       "        vertical-align: top;\n",
       "    }\n",
       "\n",
       "    .dataframe thead th {\n",
       "        text-align: right;\n",
       "    }\n",
       "</style>\n",
       "<table border=\"1\" class=\"dataframe\">\n",
       "  <thead>\n",
       "    <tr style=\"text-align: right;\">\n",
       "      <th></th>\n",
       "      <th>Techie</th>\n",
       "      <th>PaperlessBilling</th>\n",
       "      <th>Churn</th>\n",
       "    </tr>\n",
       "  </thead>\n",
       "  <tbody>\n",
       "    <tr>\n",
       "      <th>0</th>\n",
       "      <td>0</td>\n",
       "      <td>1</td>\n",
       "      <td>0</td>\n",
       "    </tr>\n",
       "    <tr>\n",
       "      <th>1</th>\n",
       "      <td>1</td>\n",
       "      <td>1</td>\n",
       "      <td>1</td>\n",
       "    </tr>\n",
       "    <tr>\n",
       "      <th>2</th>\n",
       "      <td>1</td>\n",
       "      <td>1</td>\n",
       "      <td>0</td>\n",
       "    </tr>\n",
       "    <tr>\n",
       "      <th>3</th>\n",
       "      <td>1</td>\n",
       "      <td>1</td>\n",
       "      <td>0</td>\n",
       "    </tr>\n",
       "    <tr>\n",
       "      <th>4</th>\n",
       "      <td>0</td>\n",
       "      <td>0</td>\n",
       "      <td>1</td>\n",
       "    </tr>\n",
       "  </tbody>\n",
       "</table>\n",
       "</div>"
      ],
      "text/plain": [
       "   Techie  PaperlessBilling  Churn\n",
       "0       0                 1      0\n",
       "1       1                 1      1\n",
       "2       1                 1      0\n",
       "3       1                 1      0\n",
       "4       0                 0      1"
      ]
     },
     "execution_count": 12,
     "metadata": {},
     "output_type": "execute_result"
    }
   ],
   "source": [
    "log_df[['Techie', 'PaperlessBilling', 'Churn']].head()"
   ]
  },
  {
   "cell_type": "markdown",
   "metadata": {},
   "source": [
    "The .unique() function was used on the remaining categorical columns to find their distinct categorical values.  Contract, and Area contained 3 unique categorical values. The above code structure was used on each of these columns to assign numbers ranging from 0-2."
   ]
  },
  {
   "cell_type": "code",
   "execution_count": 13,
   "metadata": {},
   "outputs": [
    {
     "data": {
      "text/plain": [
       "array(['One year', 'Month-to-month', 'Two Year'], dtype=object)"
      ]
     },
     "execution_count": 13,
     "metadata": {},
     "output_type": "execute_result"
    }
   ],
   "source": [
    "log_df['Contract'].unique()"
   ]
  },
  {
   "cell_type": "code",
   "execution_count": 14,
   "metadata": {},
   "outputs": [
    {
     "data": {
      "text/plain": [
       "array(['Urban', 'Suburban', 'Rural'], dtype=object)"
      ]
     },
     "execution_count": 14,
     "metadata": {},
     "output_type": "execute_result"
    }
   ],
   "source": [
    "log_df['Area'].unique()"
   ]
  },
  {
   "cell_type": "code",
   "execution_count": 15,
   "metadata": {},
   "outputs": [],
   "source": [
    "# ranked shortest duration to longest\n",
    "contract_mapping = {'Month-to-month' : 0, 'One year' : 1, 'Two Year' : 2}\n",
    "log_df['Contract'] = log_df['Contract'].map(contract_mapping)"
   ]
  },
  {
   "cell_type": "code",
   "execution_count": 16,
   "metadata": {},
   "outputs": [],
   "source": [
    "# ranked sparsest population to densest\n",
    "area_mapping = {'Rural' : 0, 'Suburban' : 1, 'Urban' : 2}\n",
    "log_df['Area'] = log_df['Area'].map(area_mapping)"
   ]
  },
  {
   "cell_type": "code",
   "execution_count": 17,
   "metadata": {},
   "outputs": [
    {
     "data": {
      "text/html": [
       "<div>\n",
       "<style scoped>\n",
       "    .dataframe tbody tr th:only-of-type {\n",
       "        vertical-align: middle;\n",
       "    }\n",
       "\n",
       "    .dataframe tbody tr th {\n",
       "        vertical-align: top;\n",
       "    }\n",
       "\n",
       "    .dataframe thead th {\n",
       "        text-align: right;\n",
       "    }\n",
       "</style>\n",
       "<table border=\"1\" class=\"dataframe\">\n",
       "  <thead>\n",
       "    <tr style=\"text-align: right;\">\n",
       "      <th></th>\n",
       "      <th>Contract</th>\n",
       "      <th>Area</th>\n",
       "    </tr>\n",
       "  </thead>\n",
       "  <tbody>\n",
       "    <tr>\n",
       "      <th>0</th>\n",
       "      <td>1</td>\n",
       "      <td>2</td>\n",
       "    </tr>\n",
       "    <tr>\n",
       "      <th>1</th>\n",
       "      <td>0</td>\n",
       "      <td>2</td>\n",
       "    </tr>\n",
       "    <tr>\n",
       "      <th>2</th>\n",
       "      <td>2</td>\n",
       "      <td>2</td>\n",
       "    </tr>\n",
       "    <tr>\n",
       "      <th>3</th>\n",
       "      <td>2</td>\n",
       "      <td>1</td>\n",
       "    </tr>\n",
       "    <tr>\n",
       "      <th>4</th>\n",
       "      <td>0</td>\n",
       "      <td>1</td>\n",
       "    </tr>\n",
       "  </tbody>\n",
       "</table>\n",
       "</div>"
      ],
      "text/plain": [
       "   Contract  Area\n",
       "0         1     2\n",
       "1         0     2\n",
       "2         2     2\n",
       "3         2     1\n",
       "4         0     1"
      ]
     },
     "execution_count": 17,
     "metadata": {},
     "output_type": "execute_result"
    }
   ],
   "source": [
    "log_df[['Contract', 'Area']].head()"
   ]
  },
  {
   "cell_type": "code",
   "execution_count": 18,
   "metadata": {},
   "outputs": [
    {
     "data": {
      "text/html": [
       "<div>\n",
       "<style scoped>\n",
       "    .dataframe tbody tr th:only-of-type {\n",
       "        vertical-align: middle;\n",
       "    }\n",
       "\n",
       "    .dataframe tbody tr th {\n",
       "        vertical-align: top;\n",
       "    }\n",
       "\n",
       "    .dataframe thead th {\n",
       "        text-align: right;\n",
       "    }\n",
       "</style>\n",
       "<table border=\"1\" class=\"dataframe\">\n",
       "  <thead>\n",
       "    <tr style=\"text-align: right;\">\n",
       "      <th></th>\n",
       "      <th>Techie</th>\n",
       "      <th>PaperlessBilling</th>\n",
       "      <th>Contract</th>\n",
       "      <th>Area</th>\n",
       "      <th>Email</th>\n",
       "      <th>Children</th>\n",
       "      <th>Age</th>\n",
       "      <th>Contacts</th>\n",
       "      <th>Item1</th>\n",
       "      <th>Item2</th>\n",
       "      <th>...</th>\n",
       "      <th>Item7</th>\n",
       "      <th>Item8</th>\n",
       "      <th>Yearly_equip_failure</th>\n",
       "      <th>Population</th>\n",
       "      <th>MonthlyCharge</th>\n",
       "      <th>Bandwidth_GB_Year</th>\n",
       "      <th>Tenure</th>\n",
       "      <th>Outage_sec_perweek</th>\n",
       "      <th>Income</th>\n",
       "      <th>Churn</th>\n",
       "    </tr>\n",
       "  </thead>\n",
       "  <tbody>\n",
       "    <tr>\n",
       "      <th>0</th>\n",
       "      <td>0</td>\n",
       "      <td>1</td>\n",
       "      <td>1</td>\n",
       "      <td>2</td>\n",
       "      <td>10</td>\n",
       "      <td>0</td>\n",
       "      <td>68</td>\n",
       "      <td>0</td>\n",
       "      <td>5</td>\n",
       "      <td>5</td>\n",
       "      <td>...</td>\n",
       "      <td>3</td>\n",
       "      <td>4</td>\n",
       "      <td>1</td>\n",
       "      <td>38</td>\n",
       "      <td>172.455519</td>\n",
       "      <td>904.536110</td>\n",
       "      <td>6.795513</td>\n",
       "      <td>7.978323</td>\n",
       "      <td>28561.99</td>\n",
       "      <td>0</td>\n",
       "    </tr>\n",
       "    <tr>\n",
       "      <th>1</th>\n",
       "      <td>1</td>\n",
       "      <td>1</td>\n",
       "      <td>0</td>\n",
       "      <td>2</td>\n",
       "      <td>12</td>\n",
       "      <td>1</td>\n",
       "      <td>27</td>\n",
       "      <td>0</td>\n",
       "      <td>3</td>\n",
       "      <td>4</td>\n",
       "      <td>...</td>\n",
       "      <td>4</td>\n",
       "      <td>4</td>\n",
       "      <td>1</td>\n",
       "      <td>10446</td>\n",
       "      <td>242.632554</td>\n",
       "      <td>800.982766</td>\n",
       "      <td>1.156681</td>\n",
       "      <td>11.699080</td>\n",
       "      <td>21704.77</td>\n",
       "      <td>1</td>\n",
       "    </tr>\n",
       "    <tr>\n",
       "      <th>2</th>\n",
       "      <td>1</td>\n",
       "      <td>1</td>\n",
       "      <td>2</td>\n",
       "      <td>2</td>\n",
       "      <td>9</td>\n",
       "      <td>4</td>\n",
       "      <td>50</td>\n",
       "      <td>0</td>\n",
       "      <td>4</td>\n",
       "      <td>4</td>\n",
       "      <td>...</td>\n",
       "      <td>3</td>\n",
       "      <td>3</td>\n",
       "      <td>1</td>\n",
       "      <td>3735</td>\n",
       "      <td>159.947583</td>\n",
       "      <td>2054.706961</td>\n",
       "      <td>15.754144</td>\n",
       "      <td>10.752800</td>\n",
       "      <td>9609.57</td>\n",
       "      <td>0</td>\n",
       "    </tr>\n",
       "    <tr>\n",
       "      <th>3</th>\n",
       "      <td>1</td>\n",
       "      <td>1</td>\n",
       "      <td>2</td>\n",
       "      <td>1</td>\n",
       "      <td>15</td>\n",
       "      <td>1</td>\n",
       "      <td>48</td>\n",
       "      <td>2</td>\n",
       "      <td>4</td>\n",
       "      <td>4</td>\n",
       "      <td>...</td>\n",
       "      <td>3</td>\n",
       "      <td>3</td>\n",
       "      <td>0</td>\n",
       "      <td>13863</td>\n",
       "      <td>119.956840</td>\n",
       "      <td>2164.579412</td>\n",
       "      <td>17.087227</td>\n",
       "      <td>14.913540</td>\n",
       "      <td>18925.23</td>\n",
       "      <td>0</td>\n",
       "    </tr>\n",
       "    <tr>\n",
       "      <th>4</th>\n",
       "      <td>0</td>\n",
       "      <td>0</td>\n",
       "      <td>0</td>\n",
       "      <td>1</td>\n",
       "      <td>16</td>\n",
       "      <td>0</td>\n",
       "      <td>83</td>\n",
       "      <td>2</td>\n",
       "      <td>4</td>\n",
       "      <td>4</td>\n",
       "      <td>...</td>\n",
       "      <td>4</td>\n",
       "      <td>5</td>\n",
       "      <td>1</td>\n",
       "      <td>11352</td>\n",
       "      <td>149.948316</td>\n",
       "      <td>271.493436</td>\n",
       "      <td>1.670972</td>\n",
       "      <td>8.147417</td>\n",
       "      <td>40074.19</td>\n",
       "      <td>1</td>\n",
       "    </tr>\n",
       "  </tbody>\n",
       "</table>\n",
       "<p>5 rows × 24 columns</p>\n",
       "</div>"
      ],
      "text/plain": [
       "   Techie  PaperlessBilling  Contract  Area  Email  Children  Age  Contacts  \\\n",
       "0       0                 1         1     2     10         0   68         0   \n",
       "1       1                 1         0     2     12         1   27         0   \n",
       "2       1                 1         2     2      9         4   50         0   \n",
       "3       1                 1         2     1     15         1   48         2   \n",
       "4       0                 0         0     1     16         0   83         2   \n",
       "\n",
       "   Item1  Item2  ...  Item7  Item8  Yearly_equip_failure  Population  \\\n",
       "0      5      5  ...      3      4                     1          38   \n",
       "1      3      4  ...      4      4                     1       10446   \n",
       "2      4      4  ...      3      3                     1        3735   \n",
       "3      4      4  ...      3      3                     0       13863   \n",
       "4      4      4  ...      4      5                     1       11352   \n",
       "\n",
       "   MonthlyCharge  Bandwidth_GB_Year     Tenure  Outage_sec_perweek    Income  \\\n",
       "0     172.455519         904.536110   6.795513            7.978323  28561.99   \n",
       "1     242.632554         800.982766   1.156681           11.699080  21704.77   \n",
       "2     159.947583        2054.706961  15.754144           10.752800   9609.57   \n",
       "3     119.956840        2164.579412  17.087227           14.913540  18925.23   \n",
       "4     149.948316         271.493436   1.670972            8.147417  40074.19   \n",
       "\n",
       "   Churn  \n",
       "0      0  \n",
       "1      1  \n",
       "2      0  \n",
       "3      0  \n",
       "4      1  \n",
       "\n",
       "[5 rows x 24 columns]"
      ]
     },
     "execution_count": 18,
     "metadata": {},
     "output_type": "execute_result"
    }
   ],
   "source": [
    "# no character categories - all mapped to discrete numbers\n",
    "log_df.head()"
   ]
  },
  {
   "cell_type": "markdown",
   "metadata": {},
   "source": [
    "This is the prepared data frame which was used to build the initial linear model, and can be saved as an Excel spreadsheet."
   ]
  },
  {
   "cell_type": "code",
   "execution_count": 19,
   "metadata": {},
   "outputs": [],
   "source": [
    "# write prepared data frame to Excel\n",
    "log_df.to_excel('C:/Users/maxgs/MSDA/D208 Predictive Modeling/Task 2/Prepared.xlsx', index = False)"
   ]
  },
  {
   "cell_type": "markdown",
   "metadata": {},
   "source": [
    "### Summary Statistics and Visualizations of Distribtuions"
   ]
  },
  {
   "cell_type": "markdown",
   "metadata": {},
   "source": [
    "Now, summary statistics can be looked at.  The describe method outputs a statistical 5-number summary, as well as the mean and standard deviation of all columns."
   ]
  },
  {
   "cell_type": "code",
   "execution_count": 20,
   "metadata": {},
   "outputs": [
    {
     "data": {
      "text/html": [
       "<div>\n",
       "<style scoped>\n",
       "    .dataframe tbody tr th:only-of-type {\n",
       "        vertical-align: middle;\n",
       "    }\n",
       "\n",
       "    .dataframe tbody tr th {\n",
       "        vertical-align: top;\n",
       "    }\n",
       "\n",
       "    .dataframe thead th {\n",
       "        text-align: right;\n",
       "    }\n",
       "</style>\n",
       "<table border=\"1\" class=\"dataframe\">\n",
       "  <thead>\n",
       "    <tr style=\"text-align: right;\">\n",
       "      <th></th>\n",
       "      <th>Techie</th>\n",
       "      <th>PaperlessBilling</th>\n",
       "      <th>Contract</th>\n",
       "      <th>Area</th>\n",
       "      <th>Email</th>\n",
       "      <th>Children</th>\n",
       "      <th>Age</th>\n",
       "      <th>Contacts</th>\n",
       "      <th>Item1</th>\n",
       "      <th>Item2</th>\n",
       "      <th>...</th>\n",
       "      <th>Item7</th>\n",
       "      <th>Item8</th>\n",
       "      <th>Yearly_equip_failure</th>\n",
       "      <th>Population</th>\n",
       "      <th>MonthlyCharge</th>\n",
       "      <th>Bandwidth_GB_Year</th>\n",
       "      <th>Tenure</th>\n",
       "      <th>Outage_sec_perweek</th>\n",
       "      <th>Income</th>\n",
       "      <th>Churn</th>\n",
       "    </tr>\n",
       "  </thead>\n",
       "  <tbody>\n",
       "    <tr>\n",
       "      <th>count</th>\n",
       "      <td>10000.000000</td>\n",
       "      <td>10000.000000</td>\n",
       "      <td>10000.000000</td>\n",
       "      <td>10000.000000</td>\n",
       "      <td>10000.000000</td>\n",
       "      <td>10000.0000</td>\n",
       "      <td>10000.000000</td>\n",
       "      <td>10000.000000</td>\n",
       "      <td>10000.000000</td>\n",
       "      <td>10000.000000</td>\n",
       "      <td>...</td>\n",
       "      <td>10000.000000</td>\n",
       "      <td>10000.000000</td>\n",
       "      <td>10000.000000</td>\n",
       "      <td>10000.000000</td>\n",
       "      <td>10000.000000</td>\n",
       "      <td>10000.000000</td>\n",
       "      <td>10000.000000</td>\n",
       "      <td>10000.000000</td>\n",
       "      <td>10000.000000</td>\n",
       "      <td>10000.000000</td>\n",
       "    </tr>\n",
       "    <tr>\n",
       "      <th>mean</th>\n",
       "      <td>0.167900</td>\n",
       "      <td>0.588200</td>\n",
       "      <td>0.698600</td>\n",
       "      <td>1.000000</td>\n",
       "      <td>12.016000</td>\n",
       "      <td>2.0877</td>\n",
       "      <td>53.078400</td>\n",
       "      <td>0.994200</td>\n",
       "      <td>3.490800</td>\n",
       "      <td>3.505100</td>\n",
       "      <td>...</td>\n",
       "      <td>3.509500</td>\n",
       "      <td>3.495600</td>\n",
       "      <td>0.398000</td>\n",
       "      <td>9756.562400</td>\n",
       "      <td>172.624816</td>\n",
       "      <td>3392.341550</td>\n",
       "      <td>34.526188</td>\n",
       "      <td>10.001848</td>\n",
       "      <td>39806.926771</td>\n",
       "      <td>0.265000</td>\n",
       "    </tr>\n",
       "    <tr>\n",
       "      <th>std</th>\n",
       "      <td>0.373796</td>\n",
       "      <td>0.492184</td>\n",
       "      <td>0.836079</td>\n",
       "      <td>0.815761</td>\n",
       "      <td>3.025898</td>\n",
       "      <td>2.1472</td>\n",
       "      <td>20.698882</td>\n",
       "      <td>0.988466</td>\n",
       "      <td>1.037797</td>\n",
       "      <td>1.034641</td>\n",
       "      <td>...</td>\n",
       "      <td>1.028502</td>\n",
       "      <td>1.028633</td>\n",
       "      <td>0.635953</td>\n",
       "      <td>14432.698671</td>\n",
       "      <td>42.943094</td>\n",
       "      <td>2185.294852</td>\n",
       "      <td>26.443063</td>\n",
       "      <td>2.976019</td>\n",
       "      <td>28199.916702</td>\n",
       "      <td>0.441355</td>\n",
       "    </tr>\n",
       "    <tr>\n",
       "      <th>min</th>\n",
       "      <td>0.000000</td>\n",
       "      <td>0.000000</td>\n",
       "      <td>0.000000</td>\n",
       "      <td>0.000000</td>\n",
       "      <td>1.000000</td>\n",
       "      <td>0.0000</td>\n",
       "      <td>18.000000</td>\n",
       "      <td>0.000000</td>\n",
       "      <td>1.000000</td>\n",
       "      <td>1.000000</td>\n",
       "      <td>...</td>\n",
       "      <td>1.000000</td>\n",
       "      <td>1.000000</td>\n",
       "      <td>0.000000</td>\n",
       "      <td>0.000000</td>\n",
       "      <td>79.978860</td>\n",
       "      <td>155.506715</td>\n",
       "      <td>1.000259</td>\n",
       "      <td>0.099747</td>\n",
       "      <td>348.670000</td>\n",
       "      <td>0.000000</td>\n",
       "    </tr>\n",
       "    <tr>\n",
       "      <th>25%</th>\n",
       "      <td>0.000000</td>\n",
       "      <td>0.000000</td>\n",
       "      <td>0.000000</td>\n",
       "      <td>0.000000</td>\n",
       "      <td>10.000000</td>\n",
       "      <td>0.0000</td>\n",
       "      <td>35.000000</td>\n",
       "      <td>0.000000</td>\n",
       "      <td>3.000000</td>\n",
       "      <td>3.000000</td>\n",
       "      <td>...</td>\n",
       "      <td>3.000000</td>\n",
       "      <td>3.000000</td>\n",
       "      <td>0.000000</td>\n",
       "      <td>738.000000</td>\n",
       "      <td>139.979239</td>\n",
       "      <td>1236.470827</td>\n",
       "      <td>7.917694</td>\n",
       "      <td>8.018214</td>\n",
       "      <td>19224.717500</td>\n",
       "      <td>0.000000</td>\n",
       "    </tr>\n",
       "    <tr>\n",
       "      <th>50%</th>\n",
       "      <td>0.000000</td>\n",
       "      <td>1.000000</td>\n",
       "      <td>0.000000</td>\n",
       "      <td>1.000000</td>\n",
       "      <td>12.000000</td>\n",
       "      <td>1.0000</td>\n",
       "      <td>53.000000</td>\n",
       "      <td>1.000000</td>\n",
       "      <td>3.000000</td>\n",
       "      <td>4.000000</td>\n",
       "      <td>...</td>\n",
       "      <td>4.000000</td>\n",
       "      <td>3.000000</td>\n",
       "      <td>0.000000</td>\n",
       "      <td>2910.500000</td>\n",
       "      <td>167.484700</td>\n",
       "      <td>3279.536903</td>\n",
       "      <td>35.430507</td>\n",
       "      <td>10.018560</td>\n",
       "      <td>33170.605000</td>\n",
       "      <td>0.000000</td>\n",
       "    </tr>\n",
       "    <tr>\n",
       "      <th>75%</th>\n",
       "      <td>0.000000</td>\n",
       "      <td>1.000000</td>\n",
       "      <td>1.000000</td>\n",
       "      <td>2.000000</td>\n",
       "      <td>14.000000</td>\n",
       "      <td>3.0000</td>\n",
       "      <td>71.000000</td>\n",
       "      <td>2.000000</td>\n",
       "      <td>4.000000</td>\n",
       "      <td>4.000000</td>\n",
       "      <td>...</td>\n",
       "      <td>4.000000</td>\n",
       "      <td>4.000000</td>\n",
       "      <td>1.000000</td>\n",
       "      <td>13168.000000</td>\n",
       "      <td>200.734725</td>\n",
       "      <td>5586.141369</td>\n",
       "      <td>61.479795</td>\n",
       "      <td>11.969485</td>\n",
       "      <td>53246.170000</td>\n",
       "      <td>1.000000</td>\n",
       "    </tr>\n",
       "    <tr>\n",
       "      <th>max</th>\n",
       "      <td>1.000000</td>\n",
       "      <td>1.000000</td>\n",
       "      <td>2.000000</td>\n",
       "      <td>2.000000</td>\n",
       "      <td>23.000000</td>\n",
       "      <td>10.0000</td>\n",
       "      <td>89.000000</td>\n",
       "      <td>7.000000</td>\n",
       "      <td>7.000000</td>\n",
       "      <td>7.000000</td>\n",
       "      <td>...</td>\n",
       "      <td>7.000000</td>\n",
       "      <td>8.000000</td>\n",
       "      <td>6.000000</td>\n",
       "      <td>111850.000000</td>\n",
       "      <td>290.160419</td>\n",
       "      <td>7158.981530</td>\n",
       "      <td>71.999280</td>\n",
       "      <td>21.207230</td>\n",
       "      <td>258900.700000</td>\n",
       "      <td>1.000000</td>\n",
       "    </tr>\n",
       "  </tbody>\n",
       "</table>\n",
       "<p>8 rows × 24 columns</p>\n",
       "</div>"
      ],
      "text/plain": [
       "             Techie  PaperlessBilling      Contract          Area  \\\n",
       "count  10000.000000      10000.000000  10000.000000  10000.000000   \n",
       "mean       0.167900          0.588200      0.698600      1.000000   \n",
       "std        0.373796          0.492184      0.836079      0.815761   \n",
       "min        0.000000          0.000000      0.000000      0.000000   \n",
       "25%        0.000000          0.000000      0.000000      0.000000   \n",
       "50%        0.000000          1.000000      0.000000      1.000000   \n",
       "75%        0.000000          1.000000      1.000000      2.000000   \n",
       "max        1.000000          1.000000      2.000000      2.000000   \n",
       "\n",
       "              Email    Children           Age      Contacts         Item1  \\\n",
       "count  10000.000000  10000.0000  10000.000000  10000.000000  10000.000000   \n",
       "mean      12.016000      2.0877     53.078400      0.994200      3.490800   \n",
       "std        3.025898      2.1472     20.698882      0.988466      1.037797   \n",
       "min        1.000000      0.0000     18.000000      0.000000      1.000000   \n",
       "25%       10.000000      0.0000     35.000000      0.000000      3.000000   \n",
       "50%       12.000000      1.0000     53.000000      1.000000      3.000000   \n",
       "75%       14.000000      3.0000     71.000000      2.000000      4.000000   \n",
       "max       23.000000     10.0000     89.000000      7.000000      7.000000   \n",
       "\n",
       "              Item2  ...         Item7         Item8  Yearly_equip_failure  \\\n",
       "count  10000.000000  ...  10000.000000  10000.000000          10000.000000   \n",
       "mean       3.505100  ...      3.509500      3.495600              0.398000   \n",
       "std        1.034641  ...      1.028502      1.028633              0.635953   \n",
       "min        1.000000  ...      1.000000      1.000000              0.000000   \n",
       "25%        3.000000  ...      3.000000      3.000000              0.000000   \n",
       "50%        4.000000  ...      4.000000      3.000000              0.000000   \n",
       "75%        4.000000  ...      4.000000      4.000000              1.000000   \n",
       "max        7.000000  ...      7.000000      8.000000              6.000000   \n",
       "\n",
       "          Population  MonthlyCharge  Bandwidth_GB_Year        Tenure  \\\n",
       "count   10000.000000   10000.000000       10000.000000  10000.000000   \n",
       "mean     9756.562400     172.624816        3392.341550     34.526188   \n",
       "std     14432.698671      42.943094        2185.294852     26.443063   \n",
       "min         0.000000      79.978860         155.506715      1.000259   \n",
       "25%       738.000000     139.979239        1236.470827      7.917694   \n",
       "50%      2910.500000     167.484700        3279.536903     35.430507   \n",
       "75%     13168.000000     200.734725        5586.141369     61.479795   \n",
       "max    111850.000000     290.160419        7158.981530     71.999280   \n",
       "\n",
       "       Outage_sec_perweek         Income         Churn  \n",
       "count        10000.000000   10000.000000  10000.000000  \n",
       "mean            10.001848   39806.926771      0.265000  \n",
       "std              2.976019   28199.916702      0.441355  \n",
       "min              0.099747     348.670000      0.000000  \n",
       "25%              8.018214   19224.717500      0.000000  \n",
       "50%             10.018560   33170.605000      0.000000  \n",
       "75%             11.969485   53246.170000      1.000000  \n",
       "max             21.207230  258900.700000      1.000000  \n",
       "\n",
       "[8 rows x 24 columns]"
      ]
     },
     "execution_count": 20,
     "metadata": {},
     "output_type": "execute_result"
    }
   ],
   "source": [
    "# summary statistics\n",
    "log_df.describe()"
   ]
  },
  {
   "cell_type": "markdown",
   "metadata": {},
   "source": [
    "### Univariate Distributions"
   ]
  },
  {
   "cell_type": "markdown",
   "metadata": {},
   "source": [
    "Histograms can be used to visualize the distributions of the continuous variables.  The plotnine package was used to take advantage of R’s ggplot canvas layout. This saves space in the notebook, as it allows several graphs to be neatly arranged upon execution of a single cell. "
   ]
  },
  {
   "cell_type": "code",
   "execution_count": 21,
   "metadata": {},
   "outputs": [
    {
     "data": {
      "image/png": "[encoded data removed]",
      "text/plain": [
       "<Figure size 640x480 with 20 Axes>"
      ]
     },
     "metadata": {},
     "output_type": "display_data"
    }
   ],
   "source": [
    "# histograms of continuous variables\n",
    "# using R's ggplot abilities to arrange plots on grid\n",
    "\n",
    "\n",
    "import plotnine as p9\n",
    "from matplotlib import gridspec\n",
    "from plotnine import data, ggplot, ggtitle, aes, geom_histogram\n",
    "\n",
    "\n",
    "# Create subplots using plotnine\n",
    "email = ggplot(log_df) + aes(x=\"Email\") + geom_histogram(bins = 10) \n",
    "child = ggplot(log_df) + aes(x=\"Children\") + geom_histogram(bins = 10)\n",
    "age = ggplot(log_df) + aes(x=\"Age\") + geom_histogram(bins = 10)\n",
    "con = ggplot(log_df) + aes(x=\"Contacts\") + geom_histogram(bins = 10)\n",
    "it1 = ggplot(log_df) + aes(x=\"Item1\") + geom_histogram(bins = 10)\n",
    "it2 = ggplot(log_df) + aes(x=\"Item2\") + geom_histogram(bins = 10)\n",
    "it3 = ggplot(log_df) + aes(x=\"Item3\") + geom_histogram(bins = 10)\n",
    "it4 = ggplot(log_df) + aes(x=\"Item4\") + geom_histogram(bins = 10)\n",
    "it5 = ggplot(log_df) + aes(x=\"Item5\") + geom_histogram(bins = 10)\n",
    "it6 = ggplot(log_df) + aes(x=\"Item6\") + geom_histogram(bins = 10)\n",
    "it7 = ggplot(log_df) + aes(x=\"Item7\") + geom_histogram(bins = 10)\n",
    "it8 = ggplot(log_df) + aes(x=\"Item8\") + geom_histogram(bins = 10)\n",
    "yqf = ggplot(log_df) + aes(x=\"Yearly_equip_failure\") + geom_histogram(bins = 10)\n",
    "pop = ggplot(log_df) + aes(x=\"Population\") + geom_histogram(bins = 10)\n",
    "mchg = ggplot(log_df) + aes(x=\"MonthlyCharge\") + geom_histogram(bins = 10)\n",
    "bgby = ggplot(log_df) + aes(x=\"Bandwidth_GB_Year\") + geom_histogram(bins = 10)\n",
    "ten = ggplot(log_df) + aes(x=\"Tenure\") + geom_histogram(bins = 10)\n",
    "osp = ggplot(log_df) + aes(x=\"Outage_sec_perweek\") + geom_histogram(bins = 10)\n",
    "inc = ggplot(log_df) + aes(x=\"Income\") + geom_histogram(bins = 10)\n",
    "\n",
    "\n",
    "# Empty plotnine figure to place the subplots on. Needs junk data (for backend \"copy\" reasons).\n",
    "fig = (p9.ggplot()+p9.geom_blank(data=log_df)+p9.theme_void()).draw()\n",
    "fig.tight_layout(pad=-15)\n",
    "\n",
    "# Create gridspec for adding subpanels to the blank figure\n",
    "gs = gridspec.GridSpec(7,3, wspace = 0.5, hspace = 0.5)\n",
    "ax1 = fig.add_subplot(gs[0,0])\n",
    "ax1.set_title(\"Email\")\n",
    "ax2 = fig.add_subplot(gs[0,1])\n",
    "ax2.set_title(\"Children\")\n",
    "ax3 = fig.add_subplot(gs[0,2])\n",
    "ax3.set_title(\"Age\")\n",
    "ax4 = fig.add_subplot(gs[1,0])\n",
    "ax4.set_title(\"Contacts\")\n",
    "ax5 = fig.add_subplot(gs[1,1])\n",
    "ax5.set_title(\"Item1\")\n",
    "ax6 = fig.add_subplot(gs[1,2])\n",
    "ax6.set_title(\"Item2\")\n",
    "ax7 = fig.add_subplot(gs[2,0])\n",
    "ax7.set_title(\"Item3\")\n",
    "ax8 = fig.add_subplot(gs[2,1])\n",
    "ax8.set_title(\"Item4\")\n",
    "ax9 = fig.add_subplot(gs[2,2])\n",
    "ax9.set_title(\"Item5\")\n",
    "ax10 = fig.add_subplot(gs[3,0])\n",
    "ax10.set_title(\"Item6\")\n",
    "ax11 = fig.add_subplot(gs[3,1])\n",
    "ax11.set_title(\"Item7\")\n",
    "ax12 = fig.add_subplot(gs[3,2])\n",
    "ax12.set_title(\"Item8\")\n",
    "ax13 = fig.add_subplot(gs[4,0])\n",
    "ax13.set_title(\"Yearly_equip_failure\")\n",
    "ax14 = fig.add_subplot(gs[4,1])\n",
    "ax14.set_title(\"Population\")\n",
    "ax15 = fig.add_subplot(gs[4,2])\n",
    "ax15.set_title(\"MonthlyCharge\")\n",
    "ax16 = fig.add_subplot(gs[5,0])\n",
    "ax16.set_title(\"Bandwidth_GB_Year\")\n",
    "ax17 = fig.add_subplot(gs[5,1])\n",
    "ax17.set_title(\"Tenure\")\n",
    "ax18 = fig.add_subplot(gs[5,2])\n",
    "ax18.set_title(\"Outage_sec_perweek\")\n",
    "ax19 = fig.add_subplot(gs[6,0])\n",
    "ax19.set_title(\"Income\")\n",
    "\n",
    "# Add subplots to the figure\n",
    "_ = email._draw_using_figure(fig, [ax1])\n",
    "_ = child._draw_using_figure(fig, [ax2])\n",
    "_ = age._draw_using_figure(fig, [ax3])\n",
    "_ = con._draw_using_figure(fig, [ax4])\n",
    "_ = it1._draw_using_figure(fig, [ax5])\n",
    "_ = it2._draw_using_figure(fig, [ax6])\n",
    "_ = it3._draw_using_figure(fig, [ax7])\n",
    "_ = it4._draw_using_figure(fig, [ax8])\n",
    "_ = it5._draw_using_figure(fig, [ax9])\n",
    "_ = it6._draw_using_figure(fig, [ax10])\n",
    "_ = it7._draw_using_figure(fig, [ax11])\n",
    "_ = it8._draw_using_figure(fig, [ax12])\n",
    "_ = yqf._draw_using_figure(fig, [ax13])\n",
    "_ = pop._draw_using_figure(fig, [ax14])\n",
    "_ = mchg._draw_using_figure(fig, [ax15])\n",
    "_ = bgby._draw_using_figure(fig, [ax16])\n",
    "_ = ten._draw_using_figure(fig, [ax17])\n",
    "_ = osp._draw_using_figure(fig, [ax18])\n",
    "_ = inc._draw_using_figure(fig, [ax19])\n",
    "\n",
    "fig.show()"
   ]
  },
  {
   "cell_type": "markdown",
   "metadata": {},
   "source": [
    "Bar plots are more appropriate to visualize the categorical variables.  Labeling categorical variables according to their character representations for these and the rest of the disribution plots allowed for clearer readability, so the dataframe (df) before numerical mapping was used."
   ]
  },
  {
   "cell_type": "code",
   "execution_count": 22,
   "metadata": {},
   "outputs": [
    {
     "data": {
      "image/png": "[encoded data removed]",
      "text/plain": [
       "<Figure size 640x480 with 6 Axes>"
      ]
     },
     "metadata": {},
     "output_type": "display_data"
    }
   ],
   "source": [
    "# using R's ggplot abilities to arrange bar plots on grid\n",
    "# using original df to keep yes and no as values\n",
    "import plotnine as p9\n",
    "from matplotlib import gridspec\n",
    "import matplotlib.pyplot as plt\n",
    "from plotnine import data, ggplot, ggtitle, aes, geom_bar\n",
    "import warnings\n",
    "warnings.filterwarnings('ignore')\n",
    "\n",
    "# Create subplots using plotnine\n",
    "tech = ggplot(df) + aes(x=\"Techie\") + geom_bar() \n",
    "pb = ggplot(df) + aes(x=\"PaperlessBilling\") + geom_bar()\n",
    "chu = ggplot(df) + aes(x=\"Churn\") + geom_bar()\n",
    "area = ggplot(df) + aes(x=\"Area\") + geom_bar()\n",
    "ctrct = ggplot(df) + aes(x=\"Contract\") + geom_bar()\n",
    "\n",
    "\n",
    "# Empty plotnine figure to place the subplots on. Needs junk data (for backend \"copy\" reasons).\n",
    "fig = (p9.ggplot()+p9.geom_blank(data=log_df)+p9.theme_void()).draw()\n",
    "fig.tight_layout(pad=-15)\n",
    "\n",
    "# Create gridspec for adding subpanels to the blank figure\n",
    "gs = gridspec.GridSpec(3,2, wspace = 0.5, hspace = 0.5)\n",
    "ax1 = fig.add_subplot(gs[0,0])\n",
    "ax1.set_title(\"Techie\")\n",
    "ax2 = fig.add_subplot(gs[0,1])\n",
    "ax2.set_title(\"PaperlessBilling\")\n",
    "ax3 = fig.add_subplot(gs[1,0])\n",
    "ax3.set_title(\"Churn\")\n",
    "ax4 = fig.add_subplot(gs[1,1])\n",
    "ax4.set_title(\"Area\")\n",
    "ax5 = fig.add_subplot(gs[2,0])\n",
    "ax5.set_title(\"Contract\")\n",
    "\n",
    "\n",
    "# Add subplots to the figure\n",
    "_ = tech._draw_using_figure(fig, [ax1])\n",
    "_ = pb._draw_using_figure(fig, [ax2])\n",
    "_ = chu._draw_using_figure(fig, [ax3])\n",
    "_ = area._draw_using_figure(fig, [ax4])\n",
    "_ = ctrct._draw_using_figure(fig, [ax5])\n",
    "\n",
    "fig.show()"
   ]
  },
  {
   "cell_type": "markdown",
   "metadata": {},
   "source": [
    "### Bivariate plots\n",
    "\n",
    "\n",
    "### Discrete\n",
    "For categorical and numeric columns with a relatively small number of values, bar charts can be used to display counts by Churn.  Coloring Yes/No Churn counts makes for easier visualization of comparisons."
   ]
  },
  {
   "cell_type": "code",
   "execution_count": 23,
   "metadata": {},
   "outputs": [
    {
     "data": {
      "text/plain": [
       "Text(0.5, 1.0, 'Churn Count by Techie')"
      ]
     },
     "execution_count": 23,
     "metadata": {},
     "output_type": "execute_result"
    },
    {
     "data": {
      "image/png": "[encoded data removed]",
      "text/plain": [
       "<Figure size 432x288 with 1 Axes>"
      ]
     },
     "metadata": {
      "needs_background": "light"
     },
     "output_type": "display_data"
    }
   ],
   "source": [
    "pd.crosstab(df.Techie,df.Churn).plot(kind='bar')\n",
    "plt.title(\"Churn Count by Techie\")"
   ]
  },
  {
   "cell_type": "code",
   "execution_count": 24,
   "metadata": {},
   "outputs": [
    {
     "data": {
      "text/plain": [
       "Text(0.5, 1.0, 'Churn Count by PaperlessBilling')"
      ]
     },
     "execution_count": 24,
     "metadata": {},
     "output_type": "execute_result"
    },
    {
     "data": {
      "image/png": "[encoded data removed]",
      "text/plain": [
       "<Figure size 432x288 with 1 Axes>"
      ]
     },
     "metadata": {
      "needs_background": "light"
     },
     "output_type": "display_data"
    }
   ],
   "source": [
    "# Plot Churn Count by PaperlessBilling\n",
    "pd.crosstab(df.PaperlessBilling,df.Churn).plot(kind='bar')\n",
    "plt.title(\"Churn Count by PaperlessBilling\")"
   ]
  },
  {
   "cell_type": "code",
   "execution_count": 25,
   "metadata": {},
   "outputs": [
    {
     "data": {
      "text/plain": [
       "Text(0.5, 1.0, 'Churn Count by Area')"
      ]
     },
     "execution_count": 25,
     "metadata": {},
     "output_type": "execute_result"
    },
    {
     "data": {
      "image/png": "[encoded data removed]",
      "text/plain": [
       "<Figure size 432x288 with 1 Axes>"
      ]
     },
     "metadata": {
      "needs_background": "light"
     },
     "output_type": "display_data"
    }
   ],
   "source": [
    "# Plot Churn Count by Area\n",
    "pd.crosstab(df.Area,df.Churn).plot(kind='bar')\n",
    "plt.title(\"Churn Count by Area\")"
   ]
  },
  {
   "cell_type": "code",
   "execution_count": 26,
   "metadata": {},
   "outputs": [
    {
     "data": {
      "text/plain": [
       "Text(0.5, 1.0, 'Churn Count by Contract')"
      ]
     },
     "execution_count": 26,
     "metadata": {},
     "output_type": "execute_result"
    },
    {
     "data": {
      "image/png": "[encoded data removed]",
      "text/plain": [
       "<Figure size 432x288 with 1 Axes>"
      ]
     },
     "metadata": {
      "needs_background": "light"
     },
     "output_type": "display_data"
    }
   ],
   "source": [
    "# Plot Churn Count by Contract\n",
    "pd.crosstab(df.Contract,df.Churn).plot(kind='bar')\n",
    "plt.title(\"Churn Count by Contract\")"
   ]
  },
  {
   "cell_type": "code",
   "execution_count": 27,
   "metadata": {},
   "outputs": [
    {
     "data": {
      "text/plain": [
       "Text(0.5, 1.0, 'Churn Count by Children')"
      ]
     },
     "execution_count": 27,
     "metadata": {},
     "output_type": "execute_result"
    },
    {
     "data": {
      "image/png": "[encoded data removed]",
      "text/plain": [
       "<Figure size 432x288 with 1 Axes>"
      ]
     },
     "metadata": {
      "needs_background": "light"
     },
     "output_type": "display_data"
    }
   ],
   "source": [
    "# Plot Churn Count by Children\n",
    "pd.crosstab(df.Children,df.Churn).plot(kind='bar')\n",
    "plt.title(\"Churn Count by Children\")"
   ]
  },
  {
   "cell_type": "code",
   "execution_count": 28,
   "metadata": {},
   "outputs": [
    {
     "data": {
      "text/plain": [
       "Text(0.5, 1.0, 'Churn Count by Contacts')"
      ]
     },
     "execution_count": 28,
     "metadata": {},
     "output_type": "execute_result"
    },
    {
     "data": {
      "image/png": "[encoded data removed]",
      "text/plain": [
       "<Figure size 432x288 with 1 Axes>"
      ]
     },
     "metadata": {
      "needs_background": "light"
     },
     "output_type": "display_data"
    }
   ],
   "source": [
    "# Plot Churn Count by Contacts\n",
    "pd.crosstab(df.Contacts,df.Churn).plot(kind='bar')\n",
    "plt.title(\"Churn Count by Contacts\")"
   ]
  },
  {
   "cell_type": "code",
   "execution_count": 29,
   "metadata": {},
   "outputs": [
    {
     "data": {
      "text/plain": [
       "Text(0.5, 1.0, 'Churn Count by Yearly_equip_failure')"
      ]
     },
     "execution_count": 29,
     "metadata": {},
     "output_type": "execute_result"
    },
    {
     "data": {
      "image/png": "[encoded data removed]",
      "text/plain": [
       "<Figure size 432x288 with 1 Axes>"
      ]
     },
     "metadata": {
      "needs_background": "light"
     },
     "output_type": "display_data"
    }
   ],
   "source": [
    "# Plot Churn Count by Yearly_equip_failure\n",
    "pd.crosstab(df.Yearly_equip_failure,df.Churn).plot(kind='bar')\n",
    "plt.title(\"Churn Count by Yearly_equip_failure\")"
   ]
  },
  {
   "cell_type": "code",
   "execution_count": 30,
   "metadata": {},
   "outputs": [
    {
     "data": {
      "text/plain": [
       "Text(0.5, 1.0, 'Churn Count by Item1')"
      ]
     },
     "execution_count": 30,
     "metadata": {},
     "output_type": "execute_result"
    },
    {
     "data": {
      "image/png": "[encoded data removed]",
      "text/plain": [
       "<Figure size 432x288 with 1 Axes>"
      ]
     },
     "metadata": {
      "needs_background": "light"
     },
     "output_type": "display_data"
    }
   ],
   "source": [
    "# Plot Churn Count by Item1\n",
    "pd.crosstab(df.Item1,df.Churn).plot(kind='bar')\n",
    "plt.title(\"Churn Count by Item1\")"
   ]
  },
  {
   "cell_type": "code",
   "execution_count": 31,
   "metadata": {},
   "outputs": [
    {
     "data": {
      "text/plain": [
       "Text(0.5, 1.0, 'Churn Count by Item1')"
      ]
     },
     "execution_count": 31,
     "metadata": {},
     "output_type": "execute_result"
    },
    {
     "data": {
      "image/png": "[encoded data removed]",
      "text/plain": [
       "<Figure size 432x288 with 1 Axes>"
      ]
     },
     "metadata": {
      "needs_background": "light"
     },
     "output_type": "display_data"
    }
   ],
   "source": [
    "# Plot Churn Count by Item1\n",
    "pd.crosstab(df.Item1,df.Churn).plot(kind='bar')\n",
    "plt.title(\"Churn Count by Item1\")"
   ]
  },
  {
   "cell_type": "code",
   "execution_count": 32,
   "metadata": {},
   "outputs": [
    {
     "data": {
      "text/plain": [
       "Text(0.5, 1.0, 'Churn Count by Item2')"
      ]
     },
     "execution_count": 32,
     "metadata": {},
     "output_type": "execute_result"
    },
    {
     "data": {
      "image/png": "[encoded data removed]",
      "text/plain": [
       "<Figure size 432x288 with 1 Axes>"
      ]
     },
     "metadata": {
      "needs_background": "light"
     },
     "output_type": "display_data"
    }
   ],
   "source": [
    "# Plot Churn Count by Item2\n",
    "pd.crosstab(df.Item2,df.Churn).plot(kind='bar')\n",
    "plt.title(\"Churn Count by Item2\")"
   ]
  },
  {
   "cell_type": "code",
   "execution_count": 33,
   "metadata": {},
   "outputs": [
    {
     "data": {
      "text/plain": [
       "Text(0.5, 1.0, 'Churn Count by Item3')"
      ]
     },
     "execution_count": 33,
     "metadata": {},
     "output_type": "execute_result"
    },
    {
     "data": {
      "image/png": "[encoded data removed]",
      "text/plain": [
       "<Figure size 432x288 with 1 Axes>"
      ]
     },
     "metadata": {
      "needs_background": "light"
     },
     "output_type": "display_data"
    }
   ],
   "source": [
    "# Plot Churn Count by Item3\n",
    "pd.crosstab(df.Item3,df.Churn).plot(kind='bar')\n",
    "plt.title(\"Churn Count by Item3\")"
   ]
  },
  {
   "cell_type": "code",
   "execution_count": 34,
   "metadata": {},
   "outputs": [
    {
     "data": {
      "text/plain": [
       "Text(0.5, 1.0, 'Churn Count by Item4')"
      ]
     },
     "execution_count": 34,
     "metadata": {},
     "output_type": "execute_result"
    },
    {
     "data": {
      "image/png": "[encoded data removed]",
      "text/plain": [
       "<Figure size 432x288 with 1 Axes>"
      ]
     },
     "metadata": {
      "needs_background": "light"
     },
     "output_type": "display_data"
    }
   ],
   "source": [
    "# Plot Churn Count by Item4\n",
    "pd.crosstab(df.Item4,df.Churn).plot(kind='bar')\n",
    "plt.title(\"Churn Count by Item4\")"
   ]
  },
  {
   "cell_type": "code",
   "execution_count": 35,
   "metadata": {},
   "outputs": [
    {
     "data": {
      "text/plain": [
       "Text(0.5, 1.0, 'Churn Count by Item5')"
      ]
     },
     "execution_count": 35,
     "metadata": {},
     "output_type": "execute_result"
    },
    {
     "data": {
      "image/png": "[encoded data removed]",
      "text/plain": [
       "<Figure size 432x288 with 1 Axes>"
      ]
     },
     "metadata": {
      "needs_background": "light"
     },
     "output_type": "display_data"
    }
   ],
   "source": [
    "# Plot Churn Count by Item5\n",
    "pd.crosstab(df.Item5,df.Churn).plot(kind='bar')\n",
    "plt.title(\"Churn Count by Item5\")"
   ]
  },
  {
   "cell_type": "code",
   "execution_count": 36,
   "metadata": {},
   "outputs": [
    {
     "data": {
      "text/plain": [
       "Text(0.5, 1.0, 'Churn Count by Item6')"
      ]
     },
     "execution_count": 36,
     "metadata": {},
     "output_type": "execute_result"
    },
    {
     "data": {
      "image/png": "[encoded data removed]",
      "text/plain": [
       "<Figure size 432x288 with 1 Axes>"
      ]
     },
     "metadata": {
      "needs_background": "light"
     },
     "output_type": "display_data"
    }
   ],
   "source": [
    "# Plot Churn Count by Item6\n",
    "pd.crosstab(df.Item6,df.Churn).plot(kind='bar')\n",
    "plt.title(\"Churn Count by Item6\")"
   ]
  },
  {
   "cell_type": "code",
   "execution_count": 37,
   "metadata": {},
   "outputs": [
    {
     "data": {
      "text/plain": [
       "Text(0.5, 1.0, 'Churn Count by Item7')"
      ]
     },
     "execution_count": 37,
     "metadata": {},
     "output_type": "execute_result"
    },
    {
     "data": {
      "image/png": "[encoded data removed]",
      "text/plain": [
       "<Figure size 432x288 with 1 Axes>"
      ]
     },
     "metadata": {
      "needs_background": "light"
     },
     "output_type": "display_data"
    }
   ],
   "source": [
    "# Plot Churn Count by Item7\n",
    "pd.crosstab(df.Item7,df.Churn).plot(kind='bar')\n",
    "plt.title(\"Churn Count by Item7\")"
   ]
  },
  {
   "cell_type": "code",
   "execution_count": 38,
   "metadata": {},
   "outputs": [
    {
     "data": {
      "text/plain": [
       "Text(0.5, 1.0, 'Churn Count by Item8')"
      ]
     },
     "execution_count": 38,
     "metadata": {},
     "output_type": "execute_result"
    },
    {
     "data": {
      "image/png": "[encoded data removed]",
      "text/plain": [
       "<Figure size 432x288 with 1 Axes>"
      ]
     },
     "metadata": {
      "needs_background": "light"
     },
     "output_type": "display_data"
    }
   ],
   "source": [
    "# Plot Churn Count by Item8\n",
    "pd.crosstab(df.Item8,df.Churn).plot(kind='bar')\n",
    "plt.title(\"Churn Count by Item8\")"
   ]
  },
  {
   "cell_type": "markdown",
   "metadata": {},
   "source": [
    "Age, Email, Population, Tenure, Bandwidth_GB_Year, MonthlyCharge, Outage_sec_perweek, and Income have far more values and are better represented continuously as faceted histograms."
   ]
  },
  {
   "cell_type": "markdown",
   "metadata": {},
   "source": [
    "R’s customizable ggplot syntax works well to facet-wrap bivariate plots of Tenure by categorical variables but didn’t play too well with canvas layout.  Each of these histograms are plotted individually.  Since they each contain different views for the Tenure distributions, it is also easier to view this way.  "
   ]
  },
  {
   "cell_type": "code",
   "execution_count": 39,
   "metadata": {},
   "outputs": [
    {
     "data": {
      "image/png": "[encoded data removed]",
      "text/plain": [
       "<Figure size 640x480 with 2 Axes>"
      ]
     },
     "metadata": {},
     "output_type": "display_data"
    },
    {
     "data": {
      "text/plain": [
       "<ggplot: (-9223371872442185128)>"
      ]
     },
     "execution_count": 39,
     "metadata": {},
     "output_type": "execute_result"
    }
   ],
   "source": [
    "# histograms of Age by Churn\n",
    "from plotnine import facet_grid, geom_histogram, labs\n",
    "ggplot(aes(x=\"Age\"), log_df) + geom_histogram(bins=10) + facet_grid(\"Churn ~.\") + labs(x=\"Age\", y = \"Churn\")"
   ]
  },
  {
   "cell_type": "code",
   "execution_count": 40,
   "metadata": {},
   "outputs": [
    {
     "data": {
      "image/png": "[encoded data removed]",
      "text/plain": [
       "<Figure size 640x480 with 2 Axes>"
      ]
     },
     "metadata": {},
     "output_type": "display_data"
    },
    {
     "data": {
      "text/plain": [
       "<ggplot: (-9223371872442164925)>"
      ]
     },
     "execution_count": 40,
     "metadata": {},
     "output_type": "execute_result"
    }
   ],
   "source": [
    "# histograms of Email by Churn\n",
    "ggplot(aes(x=\"Email\"), log_df) + geom_histogram(bins=10) + facet_grid(\"Churn ~.\") + labs(x=\"Email\", y = \"Churn\")"
   ]
  },
  {
   "cell_type": "code",
   "execution_count": 41,
   "metadata": {},
   "outputs": [
    {
     "data": {
      "image/png": "[encoded data removed]",
      "text/plain": [
       "<Figure size 640x480 with 2 Axes>"
      ]
     },
     "metadata": {},
     "output_type": "display_data"
    },
    {
     "data": {
      "text/plain": [
       "<ggplot: (-9223371872442029133)>"
      ]
     },
     "execution_count": 41,
     "metadata": {},
     "output_type": "execute_result"
    }
   ],
   "source": [
    "# histograms of Population by Churn\n",
    "ggplot(aes(x=\"Population\"), log_df) + geom_histogram(bins=10) + facet_grid(\"Churn ~.\") + labs(x=\"Population\", y = \"Churn\")"
   ]
  },
  {
   "cell_type": "code",
   "execution_count": 42,
   "metadata": {},
   "outputs": [
    {
     "data": {
      "image/png": "[encoded data removed]",
      "text/plain": [
       "<Figure size 640x480 with 2 Axes>"
      ]
     },
     "metadata": {},
     "output_type": "display_data"
    },
    {
     "data": {
      "text/plain": [
       "<ggplot: (164412715798)>"
      ]
     },
     "execution_count": 42,
     "metadata": {},
     "output_type": "execute_result"
    }
   ],
   "source": [
    "# histograms of Tenure by Churn\n",
    "ggplot(aes(x=\"Tenure\"), log_df) + geom_histogram(bins=10) + facet_grid(\"Churn ~.\") + labs(x=\"Tenure\", y = \"Churn\")"
   ]
  },
  {
   "cell_type": "code",
   "execution_count": 43,
   "metadata": {},
   "outputs": [
    {
     "data": {
      "image/png": "[encoded data removed]",
      "text/plain": [
       "<Figure size 640x480 with 2 Axes>"
      ]
     },
     "metadata": {},
     "output_type": "display_data"
    },
    {
     "data": {
      "text/plain": [
       "<ggplot: (164412703636)>"
      ]
     },
     "execution_count": 43,
     "metadata": {},
     "output_type": "execute_result"
    }
   ],
   "source": [
    "# histograms of Bandwidth_GB_Year by Churn\n",
    "ggplot(aes(x=\"Bandwidth_GB_Year\"), log_df) + geom_histogram(bins=10) + facet_grid(\"Churn ~.\") + labs(x=\"Bandwidth_GB_Year\", y = \"Churn\")"
   ]
  },
  {
   "cell_type": "code",
   "execution_count": 44,
   "metadata": {},
   "outputs": [
    {
     "data": {
      "image/png": "[encoded data removed]",
      "text/plain": [
       "<Figure size 640x480 with 2 Axes>"
      ]
     },
     "metadata": {},
     "output_type": "display_data"
    },
    {
     "data": {
      "text/plain": [
       "<ggplot: (-9223371872442171851)>"
      ]
     },
     "execution_count": 44,
     "metadata": {},
     "output_type": "execute_result"
    }
   ],
   "source": [
    "# histograms of MonthlyCharge by Churn\n",
    "ggplot(aes(x=\"MonthlyCharge\"), log_df) + geom_histogram(bins=10) + facet_grid(\"Churn ~.\") + labs(x=\"MonthlyCharge\", y = \"Churn\")"
   ]
  },
  {
   "cell_type": "code",
   "execution_count": 45,
   "metadata": {},
   "outputs": [
    {
     "data": {
      "image/png": "[encoded data removed]",
      "text/plain": [
       "<Figure size 640x480 with 2 Axes>"
      ]
     },
     "metadata": {},
     "output_type": "display_data"
    },
    {
     "data": {
      "text/plain": [
       "<ggplot: (164412987747)>"
      ]
     },
     "execution_count": 45,
     "metadata": {},
     "output_type": "execute_result"
    }
   ],
   "source": [
    "# histograms of Outage_sec_perweek by Churn\n",
    "ggplot(aes(x=\"Outage_sec_perweek\"), log_df) + geom_histogram(bins=10) + facet_grid(\"Churn ~.\") + labs(x=\"Outage_sec_perweek\", y = \"Churn\")"
   ]
  },
  {
   "cell_type": "code",
   "execution_count": 46,
   "metadata": {},
   "outputs": [
    {
     "data": {
      "image/png": "[encoded data removed]",
      "text/plain": [
       "<Figure size 640x480 with 2 Axes>"
      ]
     },
     "metadata": {},
     "output_type": "display_data"
    },
    {
     "data": {
      "text/plain": [
       "<ggplot: (-9223371872441572117)>"
      ]
     },
     "execution_count": 46,
     "metadata": {},
     "output_type": "execute_result"
    }
   ],
   "source": [
    "# histograms of Income by Churn\n",
    "ggplot(aes(x=\"Income\"), log_df) + geom_histogram(bins=10) + facet_grid(\"Churn ~.\") + labs(x=\"Income\", y = \"Churn\")"
   ]
  },
  {
   "cell_type": "markdown",
   "metadata": {},
   "source": [
    "# Model Comparison and Analysis"
   ]
  },
  {
   "cell_type": "markdown",
   "metadata": {},
   "source": [
    "Predictor and target variables are designated as X and y.\n",
    "The linear_model package from sklearn was used to create the initial LogisticRegression() model, logreg_1.  X and y were then fit to the model. After the creation of the initial model, 2 methods of feature reduction were explored to mitigate overfitting and improve accuracy."
   ]
  },
  {
   "cell_type": "code",
   "execution_count": 47,
   "metadata": {},
   "outputs": [],
   "source": [
    "# predictor vars\n",
    "X = log_df[['Techie', 'PaperlessBilling', 'Contract', 'Area', 'Email', 'Children', 'Age', 'Contacts', 'Item1', 'Item2', 'Item3', 'Item4', 'Item5', 'Item6', 'Item7', 'Item8', 'Yearly_equip_failure', 'Population', 'MonthlyCharge', 'Bandwidth_GB_Year', 'Tenure', 'Outage_sec_perweek', 'Income']]"
   ]
  },
  {
   "cell_type": "code",
   "execution_count": 48,
   "metadata": {},
   "outputs": [],
   "source": [
    "# target\n",
    "y = log_df[['Churn']]"
   ]
  },
  {
   "cell_type": "code",
   "execution_count": 49,
   "metadata": {},
   "outputs": [
    {
     "data": {
      "text/plain": [
       "LogisticRegression()"
      ]
     },
     "execution_count": 49,
     "metadata": {},
     "output_type": "execute_result"
    }
   ],
   "source": [
    "from sklearn import linear_model\n",
    "logreg1 = linear_model.LogisticRegression()\n",
    "logreg1.fit(X,y)"
   ]
  },
  {
   "cell_type": "markdown",
   "metadata": {},
   "source": [
    "The intercept and coefficients from this initial model can be summarized using sklearn's intercept_ and coef_ parameters."
   ]
  },
  {
   "cell_type": "code",
   "execution_count": 50,
   "metadata": {},
   "outputs": [
    {
     "name": "stdout",
     "output_type": "stream",
     "text": [
      "Intercept:  [-0.01248798]\n",
      "Techie\t0.003074834992276361\n",
      "PaperlessBilling\t-0.006542308967651762\n",
      "Contract\t-0.060244969547137005\n",
      "Area\t-0.011443264611956792\n",
      "Email\t-0.14545761986969058\n",
      "Children\t-0.021877080451527732\n",
      "Age\t-0.0009793783115284252\n",
      "Contacts\t-0.009601247705542739\n",
      "Item1\t-0.04725801834291085\n",
      "Item2\t-0.04608611741978974\n",
      "Item3\t-0.04612508054799689\n",
      "Item4\t-0.0450428154287353\n",
      "Item5\t-0.04470501883280664\n",
      "Item6\t-0.04448592790439196\n",
      "Item7\t-0.04574996649018689\n",
      "Item8\t-0.044317735816517094\n",
      "Yearly_equip_failure\t-0.00602848562979062\n",
      "Population\t-3.024691681590743e-06\n",
      "MonthlyCharge\t0.027577313064675178\n",
      "Bandwidth_GB_Year\t0.0006274556422400167\n",
      "Tenure\t-0.1232240266558798\n",
      "Outage_sec_perweek\t-0.12397985204145012\n",
      "Income\t-1.8717763609542549e-06\n"
     ]
    }
   ],
   "source": [
    "# Assign the intercept to the variable intercept\n",
    "intercept = logreg1.intercept_\n",
    "print(\"Intercept: \", intercept)\n",
    "\n",
    "# Assign the coefficients to a list coef\n",
    "coef = logreg1.coef_\n",
    "for p,c in zip(X,list(coef[0])):\n",
    "    print(p + '\\t' + str(c))"
   ]
  },
  {
   "cell_type": "markdown",
   "metadata": {},
   "source": [
    "### Forward stepwise selection"
   ]
  },
  {
   "cell_type": "markdown",
   "metadata": {},
   "source": [
    "The funtion auc() comes from sklearn.metrics and uses the predict_proba() and roc_auc_score() functions to compute areas under the model's roc curve."
   ]
  },
  {
   "cell_type": "code",
   "execution_count": 51,
   "metadata": {},
   "outputs": [],
   "source": [
    "# calculate auc\n",
    "\n",
    "from sklearn.metrics import roc_auc_score\n",
    "\n",
    "def auc(variables, target, log_df):     \n",
    "    #X = log_df[variables]    \n",
    "    #y = log_df[target]    \n",
    "    logreg = linear_model.LogisticRegression()    \n",
    "    logreg.fit(X, y)    \n",
    "    predictions = logreg.predict_proba(X)[:,1]    \n",
    "    auc = roc_auc_score(y, predictions)\n",
    "    return(auc)"
   ]
  },
  {
   "cell_type": "markdown",
   "metadata": {},
   "source": [
    "The numpy package becomes useful for array manipulation in the next_best() function.  'current_variables' contains the collection of explanatory columns.  Each column's roc score is compared, with use of the above roc() function, so that features can be ordered from highest to lowest into the current_variables array."
   ]
  },
  {
   "cell_type": "code",
   "execution_count": 52,
   "metadata": {},
   "outputs": [],
   "source": [
    "# next best variable based on auc\n",
    "import numpy as np\n",
    "def next_best(current_variables, candidate_variables, target, log_df):    \n",
    "    best_auc = -1    \n",
    "    best_variable = None\n",
    "    for v in candidate_variables:\n",
    "        auc_v = auc(current_variables + [v], target, log_df)\n",
    "        if auc_v >= best_auc:            \n",
    "            best_auc = auc_v            \n",
    "            best_variable = v\n",
    "    return best_variable\n"
   ]
  },
  {
   "cell_type": "code",
   "execution_count": 53,
   "metadata": {},
   "outputs": [
    {
     "name": "stdout",
     "output_type": "stream",
     "text": [
      "['Income', 'Outage_sec_perweek', 'Tenure', 'Bandwidth_GB_Year', 'MonthlyCharge', 'Population', 'Yearly_equip_failure', 'Item8', 'Item7', 'Item6', 'Item5', 'Item4', 'Item3', 'Item2', 'Item1', 'Contacts', 'Age', 'Children', 'Email', 'Area', 'Contract', 'PaperlessBilling', 'Techie']\n"
     ]
    }
   ],
   "source": [
    "# ordering by roc score\n",
    "candidate_variables = list(log_df.iloc[:,:23].columns)\n",
    "\n",
    "current_variables = []\n",
    "target = ['Churn']\n",
    "max_num_vars = 23\n",
    "num_iter = min(max_num_vars, len(candidate_variables))\n",
    "for i in range(0, num_iter):    \n",
    "    next_variable = next_best(current_variables, candidate_variables, target, log_df)\n",
    "    current_variables = current_variables + [next_variable]\n",
    "    candidate_variables.remove(next_variable)\n",
    "print(current_variables)"
   ]
  },
  {
   "cell_type": "markdown",
   "metadata": {},
   "source": [
    "X and y are re-defined and split into training and testing sets.  The the train_test_split package contains functions to easily do this.  "
   ]
  },
  {
   "cell_type": "code",
   "execution_count": 54,
   "metadata": {},
   "outputs": [],
   "source": [
    "# Load the partitioning module\n",
    "from sklearn.model_selection import train_test_split\n",
    "\n",
    "# Create dataframes with variables and target\n",
    "X = log_df.drop(\"Churn\", 1)\n",
    "y = log_df[\"Churn\"]\n",
    "\n",
    "# Carry out 50-50 partititioning with stratification\n",
    "X_train, X_test, y_train, y_test = train_test_split(X, y, test_size = 0.5, stratify = y)\n",
    "\n",
    "# Create the final train and test basetables\n",
    "train = pd.concat([X_train, y_train], axis=1)\n",
    "test = pd.concat([X_test, y_test], axis=1)"
   ]
  },
  {
   "cell_type": "markdown",
   "metadata": {},
   "source": [
    "The auc_train_test() function fits training and testing data to the model.  Probability predictions can be made from both train and test sets so that auc scores can be compared."
   ]
  },
  {
   "cell_type": "code",
   "execution_count": 55,
   "metadata": {},
   "outputs": [],
   "source": [
    "def auc_train_test(variables, target, train, test):\n",
    "    X_train = train[variables]\n",
    "    X_test = test[variables]\n",
    "    y_train = train[target]\n",
    "    y_test = test[target]\n",
    "    logreg = linear_model.LogisticRegression()\n",
    "    \n",
    "    # Fit the model on train data\n",
    "    logreg.fit(X_train, y_train)\n",
    "    \n",
    "    # Calculate the predictions both on train and test data\n",
    "    predictions_train = logreg.predict_proba(X_train)[:,1]\n",
    "    predictions_test = logreg.predict_proba(X_test)[:,1]\n",
    "    \n",
    "    # Calculate the AUC both on train and test data\n",
    "    auc_train = roc_auc_score(y_train, predictions_train)\n",
    "    auc_test = roc_auc_score(y_test,predictions_test)\n",
    "    return(auc_train, auc_test)"
   ]
  },
  {
   "cell_type": "markdown",
   "metadata": {},
   "source": [
    "The auc scores for training and testing sets can be plotted as more features are added."
   ]
  },
  {
   "cell_type": "code",
   "execution_count": 56,
   "metadata": {},
   "outputs": [
    {
     "name": "stdout",
     "output_type": "stream",
     "text": [
      "23\n"
     ]
    },
    {
     "data": {
      "image/png": "[encoded data removed]",
      "text/plain": [
       "<Figure size 432x288 with 1 Axes>"
      ]
     },
     "metadata": {
      "needs_background": "light"
     },
     "output_type": "display_data"
    }
   ],
   "source": [
    "# Keep track of train and test AUC values\n",
    "auc_values_train = []\n",
    "auc_values_test = []\n",
    "\n",
    "# Add variables one by one\n",
    "variables_evaluate = []\n",
    "i = 0\n",
    "# Iterate over the variables in variables\n",
    "for v in current_variables:\n",
    "\n",
    "    # Add the variable\n",
    "    variables_evaluate.append(v)\n",
    "    # Calculate the train and test AUC of this set of variables\n",
    "    auc_train, auc_test = auc_train_test(variables_evaluate, [\"Churn\"], train, test)\n",
    "    # Append the values to the lists\n",
    "    auc_values_train.append(auc_train)\n",
    "    auc_values_test.append(auc_test)\n",
    "    \n",
    "# Make plot of the AUC values\n",
    "import matplotlib.pyplot as plt\n",
    "import numpy as np\n",
    "print(len(auc_values_train))\n",
    "x = np.array(range(0,len(auc_values_train)))\n",
    "y_train = np.array(auc_values_train)\n",
    "y_test = np.array(auc_values_test)\n",
    "plt.xticks(x, current_variables, rotation = 90)\n",
    "plt.plot(x,y_train, 'g')\n",
    "plt.plot(x,y_test, 'r')\n",
    "#plt.ylim((0.6, 0.8))\n",
    "plt.show()\n"
   ]
  },
  {
   "cell_type": "markdown",
   "metadata": {},
   "source": [
    "As features from left to right are added the auc score of the model increases rapidly before slowing down and plateauing after the 4th variable, Bandwidth_GB_Year.  Both training and testing trends indicate this, and there's also a slight increase as we reach the last variable.  Ideally there would be a peak in auc score, followed by a drop off.  This peak corresponds with peak model fit and indicates which variables to include in an updated version.  It is difficult to discern this pattern with the forward stepwise plot, but there's another method of feature elimination that can be examined.  "
   ]
  },
  {
   "cell_type": "markdown",
   "metadata": {},
   "source": [
    "### Recursive Feature Elimination"
   ]
  },
  {
   "cell_type": "markdown",
   "metadata": {},
   "source": [
    "Recursive feature elimination goes beyond forward stepwise feature selection.  Instead of adding more features until the roc score peaks, RFE compares the scores by permutations of subsets.  Hyperparameters from cross validation (RFECV) can be used to compute which features contribute enough accuracy to keep in the model.  The following code was adapted from Brownlee's article."
   ]
  },
  {
   "cell_type": "code",
   "execution_count": 76,
   "metadata": {},
   "outputs": [
    {
     "name": "stdout",
     "output_type": "stream",
     "text": [
      "Variable: ['Techie'], Selected True, Rank: 1.000\n",
      "Variable: ['PaperlessBilling'], Selected True, Rank: 1.000\n",
      "Variable: ['Contract'], Selected True, Rank: 1.000\n",
      "Variable: ['Area'], Selected True, Rank: 1.000\n",
      "Variable: ['Email'], Selected True, Rank: 1.000\n",
      "Variable: ['Children'], Selected True, Rank: 1.000\n",
      "Variable: ['Age'], Selected True, Rank: 1.000\n",
      "Variable: ['Contacts'], Selected True, Rank: 1.000\n",
      "Variable: ['Item1'], Selected True, Rank: 1.000\n",
      "Variable: ['Item2'], Selected True, Rank: 1.000\n",
      "Variable: ['Item3'], Selected True, Rank: 1.000\n",
      "Variable: ['Item4'], Selected True, Rank: 1.000\n",
      "Variable: ['Item5'], Selected True, Rank: 1.000\n",
      "Variable: ['Item6'], Selected True, Rank: 1.000\n",
      "Variable: ['Item7'], Selected True, Rank: 1.000\n",
      "Variable: ['Item8'], Selected True, Rank: 1.000\n",
      "Variable: ['Yearly_equip_failure'], Selected True, Rank: 1.000\n",
      "Variable: ['Population'], Selected False, Rank: 2.000\n",
      "Variable: ['MonthlyCharge'], Selected True, Rank: 1.000\n",
      "Variable: ['Bandwidth_GB_Year'], Selected True, Rank: 1.000\n",
      "Variable: ['Tenure'], Selected True, Rank: 1.000\n",
      "Variable: ['Outage_sec_perweek'], Selected True, Rank: 1.000\n",
      "Variable: ['Income'], Selected False, Rank: 3.000\n"
     ]
    }
   ],
   "source": [
    "# rfe \n",
    "\n",
    "from sklearn.datasets import make_classification\n",
    "from sklearn.feature_selection import RFE, RFECV\n",
    "from sklearn.tree import DecisionTreeClassifier\n",
    "from sklearn.linear_model import LogisticRegression\n",
    "# define dataset\n",
    "#X, y = make_classification(n_samples=1000, n_features=10, n_informative=5, n_redundant=5, random_state=1)\n",
    "X2 = log_df[['Techie', 'PaperlessBilling', 'Contract', 'Area', 'Email', 'Children', 'Age', 'Contacts', 'Item1', 'Item2', 'Item3', 'Item4', 'Item5', 'Item6', 'Item7', 'Item8', 'Yearly_equip_failure', 'Population', 'MonthlyCharge', 'Bandwidth_GB_Year', 'Tenure', 'Outage_sec_perweek', 'Income']]\n",
    "y2 = log_df[['Churn']]\n",
    "# define RFE\n",
    "rfe = RFECV(estimator=LogisticRegression())\n",
    "# fit RFE\n",
    "rfe.fit(X2, y2)\n",
    "# summarize all features\n",
    "for i in range(X.shape[1]):\n",
    "\tprint('Variable: %s, Selected %s, Rank: %.3f' % (list(log_df.iloc[:,i:i+1].columns), rfe.support_[i], rfe.ranking_[i]))"
   ]
  },
  {
   "cell_type": "markdown",
   "metadata": {},
   "source": [
    "The above output indicates that 2 features were designated as 'False', with Rank greater than 1.  This means that the RFE cross-validation process determined these variables diminished prediction accuracies on test data and should be removed to obtain a better fitting model.  The 2 features removed from the initial model were Population and Income.  It wasn't very clear which variables to remove using forward stepwise elimination, but it is with RFE."
   ]
  },
  {
   "cell_type": "markdown",
   "metadata": {},
   "source": [
    "## Final Model"
   ]
  },
  {
   "cell_type": "code",
   "execution_count": 109,
   "metadata": {},
   "outputs": [
    {
     "name": "stdout",
     "output_type": "stream",
     "text": [
      "['Techie', 'PaperlessBilling', 'Contract', 'Area', 'Email', 'Children', 'Age', 'Contacts', 'Item1', 'Item2', 'Item3', 'Item4', 'Item5', 'Item6', 'Item7', 'Item8', 'Yearly_equip_failure', 'MonthlyCharge', 'Bandwidth_GB_Year', 'Tenure', 'Outage_sec_perweek']\n"
     ]
    }
   ],
   "source": [
    "# subsetting by index to get new variable list and define arrays X2 and y2\n",
    "vars_2 = list((log_df.iloc[:,:17].columns).append(log_df.iloc[:,18:22].columns))\n",
    "X2 = log_df[vars_2]\n",
    "y2 = y\n",
    "print(vars_2)"
   ]
  },
  {
   "cell_type": "code",
   "execution_count": 110,
   "metadata": {},
   "outputs": [
    {
     "data": {
      "text/plain": [
       "LogisticRegression()"
      ]
     },
     "execution_count": 110,
     "metadata": {},
     "output_type": "execute_result"
    }
   ],
   "source": [
    "from sklearn import linear_model\n",
    "logreg2 = linear_model.LogisticRegression()\n",
    "logreg2.fit(X2,y2)"
   ]
  },
  {
   "cell_type": "markdown",
   "metadata": {},
   "source": [
    "Summarizing the intercept and coefficients for the final model:"
   ]
  },
  {
   "cell_type": "code",
   "execution_count": 111,
   "metadata": {},
   "outputs": [
    {
     "name": "stdout",
     "output_type": "stream",
     "text": [
      "Intercept:  [-0.06936696]\n",
      "Techie\t0.06384577989643778\n",
      "PaperlessBilling\t-0.026977982214211098\n",
      "Contract\t-0.7137951807767889\n",
      "Area\t-0.05254856056235316\n",
      "Email\t-0.019671729788153496\n",
      "Children\t-0.27837313462707947\n",
      "Age\t0.009103325702829384\n",
      "Contacts\t-0.029229696930707125\n",
      "Item1\t-0.12085037791662513\n",
      "Item2\t-0.12442748935921856\n",
      "Item3\t-0.13040749687490555\n",
      "Item4\t-0.20259795123755406\n",
      "Item5\t-0.26874042668617637\n",
      "Item6\t-0.12011708073957497\n",
      "Item7\t-0.14932249876887985\n",
      "Item8\t-0.1421598092358235\n",
      "Yearly_equip_failure\t-0.035810507853096155\n",
      "MonthlyCharge\t0.02517625581765081\n",
      "Bandwidth_GB_Year\t0.0034065919911148365\n",
      "Tenure\t-0.3657378165838666\n",
      "Outage_sec_perweek\t-0.01691143912517703\n"
     ]
    }
   ],
   "source": [
    "# Assign the intercept to the variable intercept\n",
    "intercept = logreg2.intercept_\n",
    "print(\"Intercept: \", intercept)\n",
    "\n",
    "# Assign the coefficients to a list coef\n",
    "coef = logreg2.coef_\n",
    "for p,c in zip(X2,list(coef[0])):\n",
    "    print(p + '\\t' + str(c))"
   ]
  },
  {
   "cell_type": "markdown",
   "metadata": {},
   "source": [
    "### Calculations and Comparisons"
   ]
  },
  {
   "cell_type": "markdown",
   "metadata": {},
   "source": [
    "A confusion matrix takes the form of: \n",
    "\n",
    "[[TP     FP]\n",
    "\n",
    "[FN     TN]]\n",
    "\n",
    "The elements are abbreviations that describe how many outcomes from a model that were predicted true or false according to positive or negative (0 or 1, in the logistic model):\n",
    "\n",
    "TP: True Positive\n",
    "\n",
    "TN: True Negative\n",
    "\n",
    "FP: False Positive\n",
    "\n",
    "FN: False Negative\n"
   ]
  },
  {
   "cell_type": "markdown",
   "metadata": {},
   "source": [
    "Three measures of model performance can be extracted from these values (Google Developers).  \n",
    "\n",
    "Accuracy = TP + TN / (TP + FP + TN + FN)\n",
    "\n",
    "Precision = TP / (TP + FP)\n",
    "\n",
    "Recall = TP / (TP + FN)\n",
    "\n",
    "In the context of predicting churn from these models, accuracy measures the proportion of correct predictions over all. Precision measures the predictions that turned out positive, while recall quantifies actual positives that were correctly predicted.   The best model will have the highest accuracy, but the other 2 values can be compared too."
   ]
  },
  {
   "cell_type": "markdown",
   "metadata": {},
   "source": [
    "Confusion matrices of the initial model (logreg) and the model after RFE (logreg2) can be computed and compared.  "
   ]
  },
  {
   "cell_type": "code",
   "execution_count": 112,
   "metadata": {},
   "outputs": [
    {
     "name": "stdout",
     "output_type": "stream",
     "text": [
      "[[3331  344]\n",
      " [ 437  888]]\n"
     ]
    }
   ],
   "source": [
    "import sklearn.metrics as metrics\n",
    "\n",
    "# re-define initial X and y sets\n",
    "X = log_df.drop(\"Churn\", 1)\n",
    "y = log_df[\"Churn\"]\n",
    "\n",
    "# Carry out 50-50 partititioning with stratification\n",
    "X_train, X_test, y_train, y_test = train_test_split(X, y, test_size = 0.5, stratify = y)\n",
    "\n",
    "# new model\n",
    "logreg = LogisticRegression()\n",
    "\n",
    "# fit the model with data\n",
    "logreg.fit(X_train,y_train)\n",
    "y_pred=logreg.predict(X_test)\n",
    "cnf_matrix_1 = metrics.confusion_matrix(y_test, y_pred)\n",
    "print(cnf_matrix_1)"
   ]
  },
  {
   "cell_type": "code",
   "execution_count": 113,
   "metadata": {},
   "outputs": [
    {
     "name": "stdout",
     "output_type": "stream",
     "text": [
      "[[3384  291]\n",
      " [ 400  925]]\n"
     ]
    }
   ],
   "source": [
    "#confusion matrix\n",
    "\n",
    "# new model\n",
    "logreg2 = LogisticRegression()\n",
    "\n",
    "# Carry out 50-50 partititioning with stratification\n",
    "X2_train, X2_test, y2_train, y2_test = train_test_split(X2, y2, test_size = 0.5, stratify = y2)\n",
    "\n",
    "# fit the model with data\n",
    "logreg2.fit(X2_train,y2_train)\n",
    "y2_pred=logreg2.predict(X2_test)\n",
    "cnf_matrix_2 = metrics.confusion_matrix(y2_test, y2_pred)\n",
    "print(cnf_matrix_2)"
   ]
  },
  {
   "cell_type": "code",
   "execution_count": 114,
   "metadata": {},
   "outputs": [
    {
     "name": "stdout",
     "output_type": "stream",
     "text": [
      "Accuracy: 0.8438\n",
      "Precision: 0.7207792207792207\n",
      "Recall: 0.670188679245283\n"
     ]
    }
   ],
   "source": [
    "# key metrics for initial model\n",
    "print(\"Accuracy:\",metrics.accuracy_score(y_test, y_pred))\n",
    "print(\"Precision:\",metrics.precision_score(y_test, y_pred))\n",
    "print(\"Recall:\",metrics.recall_score(y_test, y_pred))"
   ]
  },
  {
   "cell_type": "code",
   "execution_count": 115,
   "metadata": {},
   "outputs": [
    {
     "name": "stdout",
     "output_type": "stream",
     "text": [
      "Accuracy: 0.8618\n",
      "Precision: 0.7606907894736842\n",
      "Recall: 0.6981132075471698\n"
     ]
    }
   ],
   "source": [
    "# key metrics for final model\n",
    "print(\"Accuracy:\",metrics.accuracy_score(y2_test, y2_pred))\n",
    "print(\"Precision:\",metrics.precision_score(y2_test, y2_pred))\n",
    "print(\"Recall:\",metrics.recall_score(y2_test, y2_pred))"
   ]
  },
  {
   "cell_type": "markdown",
   "metadata": {},
   "source": [
    "The final model obtained from RFE produced the highest numbers for all 3 performance metrics.  "
   ]
  },
  {
   "cell_type": "markdown",
   "metadata": {},
   "source": [
    "# Results"
   ]
  },
  {
   "cell_type": "markdown",
   "metadata": {},
   "source": [
    "Using the intercept and coefficients (in order of appearance from the above output) in equation (3) from the Model Assumptions section:\n",
    "\n",
    "ln( y / (1-y) )  =  -0.069 + 0.064*x1 - 0.027*x2 - 0.714*x3 - 0.053*x4 -\n",
    "\n",
    " 0.02*x5 - 0.278*x6 + 0.009*x7 - 0.03*x8 - 0.121*x9 - 0.124*x10 -\n",
    "\n",
    " 0.130*x11 - 0.203*x12 - 0.296*x13 - 0.12*x14 - 0.149*x15 - 0.142*x16 -\n",
    "\n",
    " 0.036*x17 + 0.025*x18 + 0.003*x19 - 0.366*x20 - 0.017*x21."
   ]
  },
  {
   "cell_type": "markdown",
   "metadata": {},
   "source": [
    "Recalling the shape of the sigmoid function as the independent variable increases the probability approaches 1.  Likewise as it decreases so does the probability, which will approach 0.  In terms of the final model, larger results from the linear combination in the above equation will yield higher probabilites of churn.  In order to minimize the likelihood of a customer churning the linear combination should be as low as possible.  "
   ]
  },
  {
   "cell_type": "markdown",
   "metadata": {},
   "source": [
    "The top 3 contributers to such a decreasing trend by coefficient are Contract, Tenure, and Children.  The 3 factors with the least effect are Outage_sec_perweek, Email, and PaperlessBilling.  The only variables to increase churn likelihood are Techie, MonthlyCharge, and to a lesser extent, Age, followed by Bandwidth_GB_Year.  Item5, customer rating for importance of options, has the greatest effect on reducing churn of the 8 survey items."
   ]
  },
  {
   "cell_type": "markdown",
   "metadata": {},
   "source": [
    "## Recommendations"
   ]
  },
  {
   "cell_type": "markdown",
   "metadata": {},
   "source": [
    "Email has a small effect on reducing the likelihood of churn, but is a form of communication that can be used for marketing.  Targeting emails to customers with longer contracts, who have maintained their services longer and have more children could result in keeping more customers in general. Other forms of marketing may sway such customers to stay as well.  \n",
    "\n",
    "Customers who are less likely to cancel their services seem to like having options according to the model.  The survey data wasn't very descriptive here.  This could mean options for service offerings, communication modes, flexible field repair and installation appointment windows, multi-lingual options for agent phone interactions, etc.  Perhaps all of these realms of options should be looked at, and possibly even more could be brainstormed. \n",
    "\n",
    "The more customers who are confident in their technical knowledge the more customers are likely to churn.  The same can be said for higher bill amounts.  Special discounts, such as not requiring modem/router rental with fee for customers who prefer to purchase and install their own may decrease the chances of them leaving.  Having to pay a higher amount each month seems like a rather intuitive reason to shop elsewhere, but the model indicates longer contracts has the opposite effect.  Applying discounts to longer contracts also seems like a good way keep more customers."
   ]
  },
  {
   "cell_type": "markdown",
   "metadata": {},
   "source": [
    "## Reference List"
   ]
  },
  {
   "cell_type": "markdown",
   "metadata": {},
   "source": [
    "Hsu, Ping-Wen (n.d.)  Plotting a Sigmoid Function Using Python+matplotlib. Tumblr.  https://squall0032.tumblr.com/post/77300791096/plotting-a-sigmoid-function-using-python-matplotlib\n",
    "\n",
    "Google Developers. (2020, February 10).  Classification: ROC Curve and AUC.  Machine Learning Crash Course. https://developers.google.com/machine-learning/crash-course/classification/roc-and-auc\n",
    "\n",
    "Brownlee, Jason.  (2020, Auguts 28).  Recursive Feature Elimination (RFE) for Feature Selection in Python.  Machine Learning Mastery. https://machinelearningmastery.com/rfe-feature-selection-in-python/"
   ]
  }
 ],
 "metadata": {
  "kernelspec": {
   "display_name": "Python 3",
   "language": "python",
   "name": "python3"
  },
  "language_info": {
   "codemirror_mode": {
    "name": "ipython",
    "version": 3
   },
   "file_extension": ".py",
   "mimetype": "text/x-python",
   "name": "python",
   "nbconvert_exporter": "python",
   "pygments_lexer": "ipython3",
   "version": "3.6.8"
  }
 },
 "nbformat": 4,
 "nbformat_minor": 2
}
